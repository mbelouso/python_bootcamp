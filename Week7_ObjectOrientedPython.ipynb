{
 "cells": [
  {
   "cell_type": "markdown",
   "metadata": {},
   "source": [
    "# object oriented programming in Python!"
   ]
  },
  {
   "cell_type": "code",
   "execution_count": 1,
   "metadata": {},
   "outputs": [
    {
     "name": "stdout",
     "output_type": "stream",
     "text": [
      "10\n"
     ]
    }
   ],
   "source": [
    "# challenge question\n",
    "\n",
    "values = {4:4,8:8,\"Q\":10,\"ACE\":11}\n",
    "card = (\"Q\",\"Hearts\")\n",
    "print(\"{}\".format(values[card[0]]))"
   ]
  },
  {
   "cell_type": "markdown",
   "metadata": {},
   "source": [
    "# Creating and instantiating a Class"
   ]
  },
  {
   "cell_type": "code",
   "execution_count": 2,
   "metadata": {},
   "outputs": [],
   "source": [
    "# creating our first class\n",
    "\n",
    "class Car():\n",
    "    pass         # using as a placeholder till later"
   ]
  },
  {
   "cell_type": "code",
   "execution_count": null,
   "metadata": {},
   "outputs": [
    {
     "name": "stdout",
     "output_type": "stream",
     "text": [
      "<__main__.Car object at 0x7ccd1ff99d90>\n"
     ]
    }
   ],
   "source": [
    "# instantiating an object from a class\n",
    "class Car():\n",
    "    pass\n",
    "\n",
    "ford = Car()   # This creates an instance of the Car class and stores it into the variable 'ford'\n",
    "print(ford)"
   ]
  },
  {
   "cell_type": "code",
   "execution_count": 2,
   "metadata": {},
   "outputs": [],
   "source": [
    "# create a class and instantiate it:\n",
    "\n",
    "class CodingClass():\n",
    "    pass\n",
    "\n",
    "matt = CodingClass()\n",
    "fabian = CodingClass()"
   ]
  },
  {
   "cell_type": "code",
   "execution_count": 6,
   "metadata": {},
   "outputs": [
    {
     "name": "stdout",
     "output_type": "stream",
     "text": [
      "8576277903393\n",
      "8576277903413\n",
      "<class '__main__.Car'>\n"
     ]
    }
   ],
   "source": [
    "# instantiating multiple objects from the same class\n",
    "class Car():\n",
    "    pass\n",
    "ford = Car()\n",
    "subaru = Car()\n",
    "print(hash(ford))\n",
    "print(hash(subaru))\n",
    "\n",
    "# note: hash outputs the numerical representation of the location in memory for the variable\n",
    "\n",
    "print(type(ford))"
   ]
  },
  {
   "cell_type": "markdown",
   "metadata": {},
   "source": [
    "# Exercises"
   ]
  },
  {
   "cell_type": "code",
   "execution_count": 7,
   "metadata": {},
   "outputs": [],
   "source": [
    "# Creating a class\n",
    "\n",
    "class Animals():\n",
    "    pass\n",
    "\n",
    "tiger = Animals()\n",
    "lion = Animals()"
   ]
  },
  {
   "cell_type": "code",
   "execution_count": 9,
   "metadata": {},
   "outputs": [],
   "source": [
    "class Bus:\n",
    "    pass\n",
    "\n",
    "school_bus = Bus()"
   ]
  },
  {
   "cell_type": "markdown",
   "metadata": {},
   "source": [
    "# Class attributes"
   ]
  },
  {
   "cell_type": "code",
   "execution_count": null,
   "metadata": {},
   "outputs": [
    {
     "name": "stdout",
     "output_type": "stream",
     "text": [
      "red\n"
     ]
    }
   ],
   "source": [
    "# how to define a class attribute\n",
    "\n",
    "class Car():\n",
    "    sound = \"beep\"      # each car will have this attribute and value\n",
    "    color = \"red\"\n",
    "\n",
    "ford = Car()\n",
    "print(ford.color)           # this is the 'dot' syntax"
   ]
  },
  {
   "cell_type": "code",
   "execution_count": 4,
   "metadata": {},
   "outputs": [
    {
     "name": "stdout",
     "output_type": "stream",
     "text": [
      "wrestle\n",
      "kick\n"
     ]
    }
   ],
   "source": [
    "# creating a class with some attributes:\n",
    "\n",
    "class sport():\n",
    "    soccer = \"kick\"\n",
    "    jiujitsu = \"wrestle\"\n",
    "\n",
    "matt = sport()\n",
    "\n",
    "print(matt.jiujitsu)\n",
    "print(matt.soccer)"
   ]
  },
  {
   "cell_type": "code",
   "execution_count": 1,
   "metadata": {},
   "outputs": [
    {
     "name": "stdout",
     "output_type": "stream",
     "text": [
      "beep\n",
      "honk\n"
     ]
    }
   ],
   "source": [
    "# changing the value of an attribute\n",
    "\n",
    "class Car():\n",
    "    sound = \"beep\"   \n",
    "    color = \"red\"\n",
    "\n",
    "ford = Car()\n",
    "\n",
    "print(ford.sound)\n",
    "ford.sound = \"honk\"\n",
    "\n",
    "print(ford.sound)"
   ]
  },
  {
   "cell_type": "code",
   "execution_count": null,
   "metadata": {},
   "outputs": [
    {
     "name": "stdout",
     "output_type": "stream",
     "text": [
      "blue\n"
     ]
    }
   ],
   "source": [
    "# using the init method ot give instance personalized attributes upon creation\n",
    "\n",
    "class Car():\n",
    "    def __init__(self,color):\n",
    "        self.color = color      #sets the attribute color to the value passed in\n",
    "\n",
    "ford = Car(\"blue\")              # instantiating a Car class with the color blue\n",
    "    \n",
    "print(ford.color)"
   ]
  },
  {
   "cell_type": "code",
   "execution_count": 6,
   "metadata": {},
   "outputs": [
    {
     "name": "stdout",
     "output_type": "stream",
     "text": [
      "penny farthing\n"
     ]
    }
   ],
   "source": [
    "# using the init magic method\n",
    "\n",
    "class bicycle():\n",
    "    def __init__(self,type):\n",
    "        self.type = type\n",
    "\n",
    "fabian = bicycle(\"penny farthing\")\n",
    "\n",
    "print(fabian.type)"
   ]
  },
  {
   "cell_type": "code",
   "execution_count": 3,
   "metadata": {},
   "outputs": [
    {
     "name": "stdout",
     "output_type": "stream",
     "text": [
      "blue 2016\n",
      "red 2018\n"
     ]
    }
   ],
   "source": [
    "# instantiating multiple objects with __init__()\n",
    "\n",
    "class Car():\n",
    "    def __init__(self,color,year):\n",
    "        self.color = color\n",
    "        self.year = year\n",
    "\n",
    "ford = Car(\"blue\",2016)\n",
    "subaru = Car(\"red\",2018)\n",
    "\n",
    "print(ford.color,ford.year)\n",
    "print(subaru.color,subaru.year)"
   ]
  },
  {
   "cell_type": "code",
   "execution_count": 7,
   "metadata": {},
   "outputs": [
    {
     "name": "stdout",
     "output_type": "stream",
     "text": [
      "beep\n",
      "beep blue\n"
     ]
    }
   ],
   "source": [
    "# using and accessing global class attributes\n",
    "\n",
    "class Car():\n",
    "    sound = \"beep\"              # This will be a global attribute, accessible through the class\n",
    "    def __init__(self,color):\n",
    "        self.color = color    # instance specific attribute, not accessible throught the class itself\n",
    "\n",
    "print(Car.sound)\n",
    "# print(Car.color)      # this won't work, as color is only available to instances of the Car class, not the class itself\n",
    "\n",
    "ford = Car(\"blue\")\n",
    "print(ford.sound, ford.color)"
   ]
  },
  {
   "cell_type": "markdown",
   "metadata": {},
   "source": [
    "# exercises"
   ]
  },
  {
   "cell_type": "code",
   "execution_count": 10,
   "metadata": {},
   "outputs": [],
   "source": [
    "# dog classes\n",
    "\n",
    "class Dog():\n",
    "    species = \"canine\"\n",
    "    def __init__(self,name,breed):\n",
    "        self.name = name\n",
    "        self.breed = breed\n",
    "\n",
    "dog1 = Dog(\"Sammi\", \"husky\")\n",
    "dog2 = Dog(\"Casey\",\"ChocolateLab\")"
   ]
  },
  {
   "cell_type": "code",
   "execution_count": 13,
   "metadata": {},
   "outputs": [
    {
     "name": "stdout",
     "output_type": "stream",
     "text": [
      "test\n"
     ]
    }
   ],
   "source": [
    "# person classes\n",
    "\n",
    "class Person():\n",
    "    def __init__(self,name):\n",
    "        self.name = name\n",
    "\n",
    "name1 = input(\"What is your name? :\")\n",
    "\n",
    "person1 = Person(name1)\n",
    "\n",
    "print(person1.name)"
   ]
  },
  {
   "cell_type": "markdown",
   "metadata": {},
   "source": [
    "# Methods"
   ]
  },
  {
   "cell_type": "code",
   "execution_count": 14,
   "metadata": {},
   "outputs": [
    {
     "name": "stdout",
     "output_type": "stream",
     "text": [
      "Bark\n"
     ]
    }
   ],
   "source": [
    "# defining and calling our first class method\n",
    "\n",
    "class Dog():\n",
    "    def makeSound(self):\n",
    "        print(\"Bark\")\n",
    "\n",
    "sam = Dog()\n",
    "\n",
    "sam.makeSound()"
   ]
  },
  {
   "cell_type": "code",
   "execution_count": 8,
   "metadata": {},
   "outputs": [
    {
     "name": "stdout",
     "output_type": "stream",
     "text": [
      "Happy Birthday\n"
     ]
    }
   ],
   "source": [
    "# defining a method and calling it after instantiation\n",
    "\n",
    "class fun():\n",
    "    def partyNoise(self):\n",
    "        print(\"Happy Birthday\")\n",
    "\n",
    "\n",
    "MIPS = fun()\n",
    "\n",
    "MIPS.partyNoise()"
   ]
  },
  {
   "cell_type": "code",
   "execution_count": 15,
   "metadata": {},
   "outputs": [
    {
     "name": "stdout",
     "output_type": "stream",
     "text": [
      "bark\n"
     ]
    }
   ],
   "source": [
    "# using the self keyword to access attributes within class methods\n",
    "\n",
    "class Dog():\n",
    "    sound = \"bark\"\n",
    "    def makeSound(self):\n",
    "        print(self.sound)   # note: 'self' here is required to access attributes defined within the class object\n",
    "\n",
    "sam = Dog()\n",
    "\n",
    "sam.makeSound()"
   ]
  },
  {
   "cell_type": "code",
   "execution_count": null,
   "metadata": {},
   "outputs": [
    {
     "name": "stdout",
     "output_type": "stream",
     "text": [
      "I am a cat.\n"
     ]
    },
    {
     "ename": "TypeError",
     "evalue": "makeSound() missing 1 required positional argument: 'self'",
     "output_type": "error",
     "traceback": [
      "\u001b[0;31m---------------------------------------------------------------------------\u001b[0m",
      "\u001b[0;31mTypeError\u001b[0m                                 Traceback (most recent call last)",
      "\u001b[0;32m/tmp/ipykernel_141492/61174430.py\u001b[0m in \u001b[0;36m<module>\u001b[0;34m\u001b[0m\n\u001b[1;32m     12\u001b[0m \u001b[0mDog\u001b[0m\u001b[0;34m.\u001b[0m\u001b[0mprintInfo\u001b[0m\u001b[0;34m(\u001b[0m\u001b[0;34m)\u001b[0m\u001b[0;34m\u001b[0m\u001b[0;34m\u001b[0m\u001b[0m\n\u001b[1;32m     13\u001b[0m \u001b[0;34m\u001b[0m\u001b[0m\n\u001b[0;32m---> 14\u001b[0;31m \u001b[0mDog\u001b[0m\u001b[0;34m.\u001b[0m\u001b[0mmakeSound\u001b[0m\u001b[0;34m(\u001b[0m\u001b[0;34m)\u001b[0m        \u001b[0;31m# produces error, self is in reference to instances only\u001b[0m\u001b[0;34m\u001b[0m\u001b[0;34m\u001b[0m\u001b[0m\n\u001b[0m\u001b[1;32m     15\u001b[0m \u001b[0;34m\u001b[0m\u001b[0m\n\u001b[1;32m     16\u001b[0m \u001b[0msam\u001b[0m \u001b[0;34m=\u001b[0m \u001b[0mDog\u001b[0m\u001b[0;34m(\u001b[0m\u001b[0;34m)\u001b[0m\u001b[0;34m\u001b[0m\u001b[0;34m\u001b[0m\u001b[0m\n",
      "\u001b[0;31mTypeError\u001b[0m: makeSound() missing 1 required positional argument: 'self'"
     ]
    }
   ],
   "source": [
    "# method scope\n",
    "\n",
    "# understanding which methods are accessible via the class itself and the class instances\n",
    "\n",
    "class Dog():\n",
    "    sound = \"bark\"\n",
    "    def makeSound(self):\n",
    "        print(self.sound)\n",
    "    def printInfo():\n",
    "        print(\"I am a cat.\")\n",
    "\n",
    "Dog.printInfo()\n",
    "\n",
    "#Dog.makeSound()        # produces error, self is in reference to instances only\n",
    "\n",
    "sam = Dog()\n",
    "\n",
    "sam.makeSound()\n",
    "\n",
    "#sam.printInfo()        # produces error, instances require the self parameter to access methods"
   ]
  },
  {
   "cell_type": "code",
   "execution_count": 10,
   "metadata": {},
   "outputs": [
    {
     "name": "stdout",
     "output_type": "stream",
     "text": [
      "6\n"
     ]
    }
   ],
   "source": [
    "# writing methods that accept parameters and how to parse them in.\n",
    "\n",
    "class Dog():\n",
    "    def showAge(self,age):\n",
    "        print(age)\n",
    "\n",
    "sam = Dog()\n",
    "sam.showAge(6)"
   ]
  },
  {
   "cell_type": "code",
   "execution_count": null,
   "metadata": {},
   "outputs": [
    {
     "name": "stdout",
     "output_type": "stream",
     "text": [
      "Sammi\n"
     ]
    }
   ],
   "source": [
    "# using methods to set or return attribute values, proper programming practice\n",
    "\n",
    "class Dog():\n",
    "    name = ''   # would normall use init method to declare, this is for testing purposes\n",
    "    def setName(self, new_name):            # this is the setter!\n",
    "        self.name = new_name    # declare the new value for the name attribute\n",
    "\n",
    "    def getName(self):                      # this is the getter !\n",
    "        return self.name        # returns the value of the name attribute\n",
    "    \n",
    "sam = Dog()\n",
    "sam.setName(\"Sammi\")\n",
    "print(sam.getName())"
   ]
  },
  {
   "cell_type": "code",
   "execution_count": 21,
   "metadata": {},
   "outputs": [
    {
     "name": "stdout",
     "output_type": "stream",
     "text": [
      "6\n"
     ]
    }
   ],
   "source": [
    "# incrementing/decrementing attribute values with methods, best programming practice\n",
    "\n",
    "class Dog():\n",
    "    age = 5\n",
    "    def happyBirthday(self):\n",
    "        self.age += 1\n",
    "\n",
    "sam = Dog()\n",
    "sam.happyBirthday()\n",
    "\n",
    "print(sam.age)\n"
   ]
  },
  {
   "cell_type": "code",
   "execution_count": 24,
   "metadata": {},
   "outputs": [
    {
     "name": "stdout",
     "output_type": "stream",
     "text": [
      "Puppy!\n"
     ]
    }
   ],
   "source": [
    "# calling a class method from another method\n",
    "\n",
    "class Dog():\n",
    "    age = 6\n",
    "    def getAge(self):\n",
    "        return self.age\n",
    "    def printInfo(self):\n",
    "        if self.getAge() < 10:\n",
    "            print(\"Puppy!\")\n",
    "\n",
    "sam = Dog()\n",
    "sam.printInfo()"
   ]
  },
  {
   "cell_type": "code",
   "execution_count": 25,
   "metadata": {},
   "outputs": [
    {
     "name": "stdout",
     "output_type": "stream",
     "text": [
      "This is a dog class\n"
     ]
    }
   ],
   "source": [
    "# using 'magic methods'\n",
    "\n",
    "class Dog():\n",
    "    def __str__(self):\n",
    "        return \"This is a dog class\"\n",
    "\n",
    "sam = Dog()\n",
    "print(sam)"
   ]
  },
  {
   "cell_type": "markdown",
   "metadata": {},
   "source": [
    "# exercises"
   ]
  },
  {
   "cell_type": "code",
   "execution_count": 29,
   "metadata": {},
   "outputs": [
    {
     "data": {
      "text/plain": [
       "'feline'"
      ]
     },
     "execution_count": 29,
     "metadata": {},
     "output_type": "execute_result"
    }
   ],
   "source": [
    "# animals\n",
    "\n",
    "class Animals():\n",
    "    def setName(self, species):           \n",
    "        self.species = species    \n",
    "\n",
    "    def getName(self):                     \n",
    "        return self.species\n",
    "    \n",
    "lion = Animals()\n",
    "lion.setName(\"feline\")\n",
    "lion.getName()"
   ]
  },
  {
   "cell_type": "code",
   "execution_count": 39,
   "metadata": {},
   "outputs": [
    {
     "name": "stdout",
     "output_type": "stream",
     "text": [
      "Hello Matt, your age is: 42\n"
     ]
    }
   ],
   "source": [
    "# user input\n",
    "\n",
    "class Person():\n",
    "    age = 0\n",
    "    def setAge(self,age):\n",
    "        self.age = age\n",
    "    def getAge(self):\n",
    "        return self.age\n",
    "    def setName(self,name):\n",
    "        self.name = name\n",
    "    def getName(self):\n",
    "        return self.name\n",
    "\n",
    "me_name = input(\"what is your name:\")\n",
    "me = Person()\n",
    "me.setName(me_name)\n",
    "\n",
    "age_input = input(\"What is your age: \")\n",
    "me.setAge(age_input)\n",
    "\n",
    "\n",
    "print(\"Hello {}, your age is: {}\".format(me.getName(),me.getAge()))"
   ]
  },
  {
   "cell_type": "markdown",
   "metadata": {},
   "source": [
    "# Inheritance"
   ]
  },
  {
   "cell_type": "code",
   "execution_count": null,
   "metadata": {},
   "outputs": [
    {
     "name": "stdout",
     "output_type": "stream",
     "text": [
      "Roar!\n"
     ]
    }
   ],
   "source": [
    "# inheriting a class and accessing the inherited method\n",
    "\n",
    "class Animal():\n",
    "    def makeSound(self):\n",
    "        print(\"Roar!\")\n",
    "class Dog(Animal):          # inheriting Animal Class\n",
    "    species = \"Canine\"\n",
    "\n",
    "sam = Dog()\n",
    "sam.makeSound()             # accessible through inheritance\n",
    "\n",
    "lion = Animal()"
   ]
  },
  {
   "cell_type": "code",
   "execution_count": null,
   "metadata": {},
   "outputs": [
    {
     "name": "stdout",
     "output_type": "stream",
     "text": [
      "Canine\n",
      "Sammi\n"
     ]
    }
   ],
   "source": [
    "# using the super() method to declare inherited attributes\n",
    "\n",
    "class Animal():\n",
    "    def __init__(self, species):\n",
    "        self.species = species\n",
    "    \n",
    "class Dog(Animal):\n",
    "    def __init__(self,species,name):\n",
    "        self.name = name\n",
    "        super().__init__(species)           # using super() to declare the species attribute defined in Animal() class\n",
    "\n",
    "sam = Dog(\"Canine\",\"Sammi\")\n",
    "print(sam.species)\n",
    "print(sam.name)"
   ]
  },
  {
   "cell_type": "code",
   "execution_count": 43,
   "metadata": {},
   "outputs": [
    {
     "name": "stdout",
     "output_type": "stream",
     "text": [
      "bark\n",
      "Roar!\n"
     ]
    }
   ],
   "source": [
    "# method overriding\n",
    "\n",
    "# overriding methods definied in the superclass\n",
    "class Animal():\n",
    "    def makeSound(self):\n",
    "        print(\"Roar!\")\n",
    "\n",
    "class Dog(Animal):\n",
    "    def makeSound(self):\n",
    "        print(\"bark\")\n",
    "\n",
    "sam, lion = Dog(), Animal()\n",
    "\n",
    "sam.makeSound()\n",
    "lion.makeSound()"
   ]
  },
  {
   "cell_type": "code",
   "execution_count": 44,
   "metadata": {},
   "outputs": [
    {
     "name": "stdout",
     "output_type": "stream",
     "text": [
      "9.8 Ford\n"
     ]
    }
   ],
   "source": [
    "# how to inherit multiple classes\n",
    "\n",
    "class Physics():\n",
    "    gravity = 9.8\n",
    "\n",
    "class Automobile():\n",
    "    def __init__(self,make,model,year):\n",
    "        self.make, self.model, self.year = make, model, year    # declaring multiple attributes in a single line\n",
    "\n",
    "class Ford(Physics,Automobile):\n",
    "    def __init__(self,model,year):\n",
    "        Automobile.__init__(self,\"Ford\",model,year)\n",
    "\n",
    "truck = Ford(\"F-150\",2018)\n",
    "print(truck.gravity,truck.make)"
   ]
  },
  {
   "cell_type": "markdown",
   "metadata": {},
   "source": [
    "# Exercises"
   ]
  },
  {
   "cell_type": "code",
   "execution_count": null,
   "metadata": {},
   "outputs": [
    {
     "name": "stdout",
     "output_type": "stream",
     "text": [
      "Hello, my name is Max and I'm on the good guys\n",
      "Hello, my name is Tony and I'm on the bad guys\n"
     ]
    }
   ],
   "source": [
    "# good/bad guys\n",
    "\n",
    "class Characters():\n",
    "    def __init__(self,name,team,height,weight):\n",
    "        self.name = name\n",
    "        self.team = team\n",
    "        self.height = height\n",
    "        self.weight = weight\n",
    "    def sayHello(self):\n",
    "        team_id = \"good\" if self.team == \"good\" else \"bad\"\n",
    "        print(\"Hello, my name is {} and I'm on the {} guys\".format(self.name,team_id))\n",
    "\n",
    "\n",
    "class GoodPlayers(Characters):\n",
    "    def __init__(self, name, height, weight):\n",
    "        super().__init__(name, \"good\", height, weight)\n",
    "\n",
    "class BadPlayers(Characters):\n",
    "    def __init__(self, name, height, weight):\n",
    "        super().__init__(name, \"bad\", height, weight)\n",
    "\n",
    "player1 = GoodPlayers(\"Max\", \"6'0\", \"180lbs\")\n",
    "player2 = BadPlayers(\"Tony\", \"5'9\", \"170lbs\")\n",
    "\n",
    "\n",
    "player1.sayHello()\n",
    "player2.sayHello()\n"
   ]
  }
 ],
 "metadata": {
  "kernelspec": {
   "display_name": "bootcamp",
   "language": "python",
   "name": "python3"
  },
  "language_info": {
   "codemirror_mode": {
    "name": "ipython",
    "version": 3
   },
   "file_extension": ".py",
   "mimetype": "text/x-python",
   "name": "python",
   "nbconvert_exporter": "python",
   "pygments_lexer": "ipython3",
   "version": "3.7.12"
  }
 },
 "nbformat": 4,
 "nbformat_minor": 2
}
