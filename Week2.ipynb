{
 "cells": [
  {
   "cell_type": "code",
   "execution_count": null,
   "id": "3d179c64-5d88-4703-a347-5bed965dd832",
   "metadata": {},
   "outputs": [],
   "source": [
    "#Python Basics\n",
    "\n",
    "# Comments look like this\n",
    "\n",
    "print (\"Hello\") # Comments can also go after commands"
   ]
  },
  {
   "cell_type": "code",
   "execution_count": null,
   "id": "11ed64b6-827b-4106-940a-4ad82869dfd0",
   "metadata": {},
   "outputs": [],
   "source": [
    "# Data types\n",
    "\n",
    "# Integers\n",
    "print(2)\n",
    "print(10)\n",
    "\n",
    "#Floats, or 'real' numbers\n",
    "print(10.11)\n",
    "print(8.0)\n",
    "\n",
    "#Booleans (true/false)\n",
    "\n",
    "print(True)\n",
    "print(False)\n",
    "\n",
    "#Strings\n",
    "\n",
    "print(\"\")\n",
    "print(\"There's a snake in my boot\")\n",
    "print('True')\n"
   ]
  },
  {
   "cell_type": "code",
   "execution_count": null,
   "id": "75633927-5e9a-4fae-82e9-6e6b810c023f",
   "metadata": {},
   "outputs": [],
   "source": [
    "# Variables, defined in Python by the = operator\n",
    "\n",
    "first_name = \"Matt\"\n",
    "\n",
    "# variables can be all datatypes\n",
    "num1 = 5\n",
    "num2 = 8.4\n",
    "print(num1, num2)\n",
    "\n",
    "#Booleans can be stored into a variable\n",
    "switch = True\n",
    "print(switch)\n",
    "\n",
    "# can check what datatype in a variable with type()\n",
    "type(switch)\n",
    "\n",
    "# can store strings in variables\n",
    "name = 'Matt Belousoff'\n",
    "fav_number = '2'\n",
    "print(name, fav_number)"
   ]
  },
  {
   "cell_type": "code",
   "execution_count": null,
   "id": "dcbf74c9-b158-49f7-8856-23c0db9063c5",
   "metadata": {},
   "outputs": [],
   "source": [
    "# can do operations on variables to create new variable\n",
    "result = num1 + num2\n",
    "print(result)"
   ]
  },
  {
   "cell_type": "code",
   "execution_count": null,
   "id": "e538f365-aa1a-4451-af17-69e58590a22f",
   "metadata": {},
   "outputs": [],
   "source": [
    "#operations on variables\n",
    "result += 1 # same as saying result = result + 1\n",
    "print(result)\n",
    "result *= num1\n",
    "print(result)"
   ]
  },
  {
   "cell_type": "code",
   "execution_count": null,
   "id": "d28b51a1-7291-4200-ae32-ba641f27fb7f",
   "metadata": {},
   "outputs": [],
   "source": [
    "# variables can be overwritten\n",
    "name = 'Matt'\n",
    "print(name)\n",
    "name = 'Sam'\n",
    "print(name)"
   ]
  },
  {
   "cell_type": "code",
   "execution_count": null,
   "id": "c6377ace-37cb-4788-b701-4b510ec95cfa",
   "metadata": {},
   "outputs": [],
   "source": [
    "## Exercises\n",
    "\n",
    "x = 3\n",
    "y = 10\n",
    "result = x + y\n",
    "print(\"Calculation was:\")\n",
    "print(x,\" + \",y,\" = \",result)\n",
    "\n",
    "# Area calculation\n",
    "base = 254.54\n",
    "height = 13.66\n",
    "area = base * height\n",
    "print(\"Area of the rectangle is:\",area)"
   ]
  },
  {
   "cell_type": "code",
   "execution_count": null,
   "id": "24f46a96-d234-48c7-9f88-53d0ec8cf708",
   "metadata": {},
   "outputs": [],
   "source": [
    "# String concatenation (adding one string to another)\n",
    "name = \"John\" + \" \" + \"Smith\"\n",
    "print(name)\n",
    "\n",
    "# addition operator with strings\n",
    "first_name = \"John\"\n",
    "last_name = \"Smith\"\n",
    "full_name = first_name + \" \" + last_name\n",
    "print(full_name)"
   ]
  },
  {
   "cell_type": "code",
   "execution_count": null,
   "id": "bf6f8d4b-0dfc-4844-9898-e33b27cd29a0",
   "metadata": {},
   "outputs": [],
   "source": [
    "# String formatting\n",
    "# injecting a new variable using format method\n",
    "name = \"John\"\n",
    "print( \"Hello {}\".format(name) )\n",
    "print( \"Hello {}, you are {} years old!\".format(name, 28) )\n"
   ]
  },
  {
   "cell_type": "code",
   "execution_count": null,
   "id": "f57076db-792a-4ca3-99b3-0c80b37cf0d1",
   "metadata": {},
   "outputs": [],
   "source": [
    "# Can also be done like this with fstrings\n",
    "name = \"Matt\"\n",
    "print( f\"Hello {name}\")"
   ]
  },
  {
   "cell_type": "code",
   "execution_count": null,
   "id": "7e42be9d-4f50-45b0-a860-b413d2a729d0",
   "metadata": {},
   "outputs": [],
   "source": [
    "# String indexing\n",
    "# using indexes to print each element\n",
    "word = \"Hello\"\n",
    "print(word[0])\n",
    "print(word[1])\n",
    "print(word[-1])\n",
    "\n",
    "# Can also slice\n",
    "print( word[0:2])\n",
    "\n",
    "#works like variable_name[start:stop:step]\n",
    "print( word[0:5:2])"
   ]
  },
  {
   "cell_type": "code",
   "execution_count": null,
   "id": "2a4d4b4b-0f04-4cec-9b52-ac7a592dba57",
   "metadata": {},
   "outputs": [],
   "source": [
    "# Exercises\n",
    "# exercise 1\n",
    "a = 23\n",
    "b = 4.5\n",
    "truth = False\n",
    "name = \"John\"\n",
    "print( f\"{a} {b} {truth} {name}\")\n",
    "\n",
    "# exercise 2\n",
    "name1 = \"Matt\"\n",
    "sport = \"Brazillian Jiu Jitsu\"\n",
    "programming = \"Python\"\n",
    "print( \"{}'s favorite sport is {}.\".format(name1,sport))\n",
    "print( \"{} is working on {} programming!\".format(name1,programming))\n"
   ]
  },
  {
   "cell_type": "code",
   "execution_count": null,
   "id": "6eacd821-ea4b-4e7f-95ed-9b1d31e619e1",
   "metadata": {},
   "outputs": [],
   "source": [
    "# String manipulation\n",
    "\n",
    "# using the title method to capitalize a string\n",
    "name = \"matt belousoff\"\n",
    "print(name.title())\n",
    "\n",
    "# other things\n",
    "print(name.lower())\n",
    "print(name.upper())\n"
   ]
  },
  {
   "cell_type": "code",
   "execution_count": null,
   "id": "3d95239b-f9ba-4d44-b69a-b045fb7b8d22",
   "metadata": {},
   "outputs": [],
   "source": [
    "# replacing characters\n",
    "words = \"Hello there!\"\n",
    "print(words.replace(\"!\",\".\"))"
   ]
  },
  {
   "cell_type": "code",
   "execution_count": null,
   "id": "4e24fece-1792-4a70-aac7-17e7c7f8f38d",
   "metadata": {},
   "outputs": [],
   "source": [
    "# finding the starting index of our searched term\n",
    "s = \"Look over that way\"\n",
    "print(s.find(\"over\"))"
   ]
  },
  {
   "cell_type": "code",
   "execution_count": null,
   "id": "c5979795-f032-471c-86e4-75ce82418fe5",
   "metadata": {},
   "outputs": [],
   "source": [
    "# Removing white spaces with strip\n",
    "name = \"    john     \"\n",
    "print(name)\n",
    "print(name.strip( ))"
   ]
  },
  {
   "cell_type": "code",
   "execution_count": null,
   "id": "e283dfc2-47c9-4451-9494-645de3f721d0",
   "metadata": {},
   "outputs": [],
   "source": [
    "# converting a string into a list of words\n",
    "s = \"These words are separated by spaces\"\n",
    "print( s.split(\" \"))\n",
    "\n",
    "splitted = s.split(\" \")\n",
    "print(splitted)"
   ]
  },
  {
   "cell_type": "code",
   "execution_count": null,
   "id": "6b63e99c-5a23-4d38-b905-816f675eb0c9",
   "metadata": {},
   "outputs": [],
   "source": [
    "# Excercises\n",
    "# 1\n",
    "string1 = \"uppercase\"\n",
    "print(string1.upper())\n",
    "\n",
    "#2 \n",
    "string2 = \"$$John Smith\"\n",
    "print(string2.lstrip(\"$\"))\n",
    "\n"
   ]
  },
  {
   "cell_type": "code",
   "execution_count": null,
   "id": "18648864-cd54-4354-8bb7-3a6c2b5d38e1",
   "metadata": {},
   "outputs": [],
   "source": [
    "# Create a product and price for three items\n",
    "p1_name, p1_price = \"Books\", 49.95\n",
    "p2_name, p2_price = \"Computer\", 579.99\n",
    "p3_name, p3_price = \"Monitor\", 124.89\n",
    "\n",
    "# Create a company name and info\n",
    "company_name = \"coding temple, inc.\"\n",
    "company_address = \"283 Franklin St.\"\n",
    "company_city = \"Boston, MA\"\n",
    "\n",
    "#Ending Message\n",
    "message = \"Thanks for shopping with us today!\"\n",
    "\n",
    "# Create a top border\n",
    "print(\"*\" * 50)\n",
    "#print company information, using format\n",
    "print(\"\\t\\t{}\".format(company_name.title()))\n",
    "print(\"\\t\\t{}\".format(company_address))\n",
    "print(\"\\t\\t{}\".format(company_city))\n",
    "#Section break\n",
    "print(\"*\" * 50)\n",
    "# print out header section for items\n",
    "print(\"\\tProduct Name\\tProduct Price\")\n",
    "# create a print statement for each product\n",
    "print(\"\\t{}\\t\\t${}\".format(p1_name.title(),p1_price))\n",
    "print(\"\\t{}\\t\\t${}\".format(p2_name.title(),p2_price))\n",
    "print(\"\\t{}\\t\\t${}\".format(p3_name.title(),p3_price))\n",
    "# section break\n",
    "print('=' * 50)\n",
    "#Header for total\n",
    "print(\"\\t\\t\\tTotal\")\n",
    "# Calculate things\n",
    "total = p1_price + p2_price + p3_price\n",
    "print(\"\\t\\t\\t${}\".format(total))\n",
    "# section break\n",
    "print(\"=\" * 50)\n",
    "# End Section\n",
    "print(\"\\n\\t{}\\n\".format(message))"
   ]
  },
  {
   "cell_type": "code",
   "execution_count": null,
   "id": "5e53d6a6-3599-4199-8049-fe31ca3c9685",
   "metadata": {},
   "outputs": [],
   "source": [
    "# Exercise\n",
    "\n",
    "string = \"Hello\"\n",
    "print(string[4::-1]) #note that start:stop:step, so use negative step"
   ]
  }
 ],
 "metadata": {
  "kernelspec": {
   "display_name": "Python 3 (ipykernel)",
   "language": "python",
   "name": "python3"
  },
  "language_info": {
   "codemirror_mode": {
    "name": "ipython",
    "version": 3
   },
   "file_extension": ".py",
   "mimetype": "text/x-python",
   "name": "python",
   "nbconvert_exporter": "python",
   "pygments_lexer": "ipython3",
   "version": "3.12.4"
  }
 },
 "nbformat": 4,
 "nbformat_minor": 5
}
