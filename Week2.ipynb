{
 "cells": [
  {
   "cell_type": "code",
   "execution_count": 1,
   "id": "3d179c64-5d88-4703-a347-5bed965dd832",
   "metadata": {},
   "outputs": [
    {
     "name": "stdout",
     "output_type": "stream",
     "text": [
      "Hello\n"
     ]
    }
   ],
   "source": [
    "#Python Basics\n",
    "\n",
    "# Comments look like this\n",
    "\n",
    "print (\"Hello\") # Comments can also go after commands"
   ]
  },
  {
   "cell_type": "code",
   "execution_count": 4,
   "id": "11ed64b6-827b-4106-940a-4ad82869dfd0",
   "metadata": {},
   "outputs": [
    {
     "name": "stdout",
     "output_type": "stream",
     "text": [
      "2\n",
      "10\n",
      "10.11\n",
      "8.0\n",
      "True\n",
      "False\n",
      "\n",
      "There's a snake in my boot\n",
      "True\n"
     ]
    }
   ],
   "source": [
    "# Data types\n",
    "\n",
    "# Integers\n",
    "print(2)\n",
    "print(10)\n",
    "\n",
    "#Floats, or 'real' numbers\n",
    "print(10.11)\n",
    "print(8.0)\n",
    "\n",
    "#Booleans (true/false)\n",
    "\n",
    "print(True)\n",
    "print(False)\n",
    "\n",
    "#Strings\n",
    "\n",
    "print(\"\")\n",
    "print(\"There's a snake in my boot\")\n",
    "print('True')\n"
   ]
  },
  {
   "cell_type": "code",
   "execution_count": 11,
   "id": "75633927-5e9a-4fae-82e9-6e6b810c023f",
   "metadata": {},
   "outputs": [
    {
     "name": "stdout",
     "output_type": "stream",
     "text": [
      "5 8.4\n",
      "True\n",
      "Matt Belousoff 2\n"
     ]
    }
   ],
   "source": [
    "# Variables, defined in Python by the = operator\n",
    "\n",
    "first_name = \"Matt\"\n",
    "\n",
    "# variables can be all datatypes\n",
    "num1 = 5\n",
    "num2 = 8.4\n",
    "print(num1, num2)\n",
    "\n",
    "#Booleans can be stored into a variable\n",
    "switch = True\n",
    "print(switch)\n",
    "\n",
    "# can check what datatype in a variable with type()\n",
    "type(switch)\n",
    "\n",
    "# can store strings in variables\n",
    "name = 'Matt Belousoff'\n",
    "fav_number = '2'\n",
    "print(name, fav_number)"
   ]
  },
  {
   "cell_type": "code",
   "execution_count": 12,
   "id": "dcbf74c9-b158-49f7-8856-23c0db9063c5",
   "metadata": {},
   "outputs": [
    {
     "name": "stdout",
     "output_type": "stream",
     "text": [
      "13.4\n"
     ]
    }
   ],
   "source": [
    "# can do operations on variables to create new variable\n",
    "result = num1 + num2\n",
    "print(result)"
   ]
  },
  {
   "cell_type": "code",
   "execution_count": 15,
   "id": "e538f365-aa1a-4451-af17-69e58590a22f",
   "metadata": {},
   "outputs": [
    {
     "name": "stdout",
     "output_type": "stream",
     "text": [
      "73.0\n",
      "365.0\n"
     ]
    }
   ],
   "source": [
    "#operations on variables\n",
    "result += 1 # same as saying result = result + 1\n",
    "print(result)\n",
    "result *= num1\n",
    "print(result)"
   ]
  },
  {
   "cell_type": "code",
   "execution_count": 14,
   "id": "d28b51a1-7291-4200-ae32-ba641f27fb7f",
   "metadata": {},
   "outputs": [
    {
     "name": "stdout",
     "output_type": "stream",
     "text": [
      "Matt\n",
      "Sam\n"
     ]
    }
   ],
   "source": [
    "# variables can be overwritten\n",
    "name = 'Matt'\n",
    "print(name)\n",
    "name = 'Sam'\n",
    "print(name)"
   ]
  },
  {
   "cell_type": "code",
   "execution_count": 27,
   "id": "c6377ace-37cb-4788-b701-4b510ec95cfa",
   "metadata": {},
   "outputs": [
    {
     "name": "stdout",
     "output_type": "stream",
     "text": [
      "Calculation was:\n",
      "3  +  10  =  13\n",
      "Area of the rectangle is: 3477.0164\n"
     ]
    }
   ],
   "source": [
    "## Exercises\n",
    "\n",
    "x = 3\n",
    "y = 10\n",
    "result = x + y\n",
    "print(\"Calculation was:\")\n",
    "print(x,\" + \",y,\" = \",result)\n",
    "\n",
    "# Area calculation\n",
    "base = 254.54\n",
    "height = 13.66\n",
    "area = base * height\n",
    "print(\"Area of the rectangle is:\",area)"
   ]
  },
  {
   "cell_type": "code",
   "execution_count": null,
   "id": "24f46a96-d234-48c7-9f88-53d0ec8cf708",
   "metadata": {},
   "outputs": [],
   "source": []
  }
 ],
 "metadata": {
  "kernelspec": {
   "display_name": "Python 3 (ipykernel)",
   "language": "python",
   "name": "python3"
  },
  "language_info": {
   "codemirror_mode": {
    "name": "ipython",
    "version": 3
   },
   "file_extension": ".py",
   "mimetype": "text/x-python",
   "name": "python",
   "nbconvert_exporter": "python",
   "pygments_lexer": "ipython3",
   "version": "3.12.4"
  }
 },
 "nbformat": 4,
 "nbformat_minor": 5
}
