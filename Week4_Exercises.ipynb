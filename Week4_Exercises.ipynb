{
 "cells": [
  {
   "cell_type": "markdown",
   "id": "c4bf79dc",
   "metadata": {},
   "source": [
    "# Exercises"
   ]
  },
  {
   "cell_type": "code",
   "execution_count": 8,
   "id": "028257e0",
   "metadata": {},
   "outputs": [
    {
     "name": "stdout",
     "output_type": "stream",
     "text": [
      "Input the amount of rows you want the Pyramid to be.\n",
      "          x\n",
      "         xxx\n",
      "        xxxxx\n",
      "       xxxxxxx\n",
      "      xxxxxxxxx\n",
      "     xxxxxxxxxxx\n",
      "    xxxxxxxxxxxxx\n",
      "   xxxxxxxxxxxxxxx\n",
      "  xxxxxxxxxxxxxxxxx\n",
      " xxxxxxxxxxxxxxxxxxx\n"
     ]
    }
   ],
   "source": [
    "# Pyramid builder\n",
    "print(\"Input the amount of rows you want the Pyramid to be.\") \n",
    "rows=int(input(\"How many rows? \"))\n",
    "\n",
    "i=0 \n",
    "for i in range(rows): \n",
    "    print((rows-i)*\" \",(i)*\"x\",(i+1)*\"x\",sep=\"\")\n",
    "\n"
   ]
  },
  {
   "cell_type": "code",
   "execution_count": null,
   "id": "324976ee",
   "metadata": {},
   "outputs": [],
   "source": [
    "# output names only from a mixed list\n",
    "names=[\"John\",' ','Amanda',5]\n",
    "\n",
    "for i in names:\n",
    "    if type(i)==str and len(i)>1:\n",
    "        print(i)\n",
    "    else:\n",
    "        print(\"\")\n",
    "      \n",
    "\n",
    "\n"
   ]
  },
  {
   "cell_type": "code",
   "execution_count": null,
   "id": "51ed6c0d",
   "metadata": {},
   "outputs": [],
   "source": [
    "# convert Celcius to Farenheight from a list\n",
    "temps=[32,12,44,29]\n",
    "\n",
    "for i in temps:\n",
    "    far=(9/5)*i+32\n",
    "    print(far)\n"
   ]
  }
 ],
 "metadata": {
  "kernelspec": {
   "display_name": "base",
   "language": "python",
   "name": "python3"
  },
  "language_info": {
   "codemirror_mode": {
    "name": "ipython",
    "version": 3
   },
   "file_extension": ".py",
   "mimetype": "text/x-python",
   "name": "python",
   "nbconvert_exporter": "python",
   "pygments_lexer": "ipython3",
   "version": "3.12.4"
  }
 },
 "nbformat": 4,
 "nbformat_minor": 5
}
