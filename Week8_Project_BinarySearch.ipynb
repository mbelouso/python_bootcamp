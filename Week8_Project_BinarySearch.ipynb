{
 "cells": [
  {
   "cell_type": "markdown",
   "metadata": {},
   "source": [
    "# Binary Search Program"
   ]
  },
  {
   "cell_type": "code",
   "execution_count": null,
   "metadata": {},
   "outputs": [
    {
     "name": "stdout",
     "output_type": "stream",
     "text": [
      "[0, 1, 3, 6, 7, 10, 13, 14, 15, 20]\n"
     ]
    },
    {
     "ename": "NameError",
     "evalue": "name 'alise' is not defined",
     "output_type": "error",
     "traceback": [
      "\u001b[0;31m---------------------------------------------------------------------------\u001b[0m",
      "\u001b[0;31mNameError\u001b[0m                                 Traceback (most recent call last)",
      "Cell \u001b[0;32mIn[6], line 21\u001b[0m\n\u001b[1;32m     17\u001b[0m         alist \u001b[38;5;241m=\u001b[39m alise[:mid]\n\u001b[1;32m     18\u001b[0m         \u001b[38;5;28mprint\u001b[39m(aList)\n\u001b[0;32m---> 21\u001b[0m \u001b[38;5;28mprint\u001b[39m(binarySearch(nums,\u001b[38;5;241m3\u001b[39m))\n",
      "Cell \u001b[0;32mIn[6], line 17\u001b[0m, in \u001b[0;36mbinarySearch\u001b[0;34m(aList, num)\u001b[0m\n\u001b[1;32m     15\u001b[0m     \u001b[38;5;28;01mreturn\u001b[39;00m \u001b[38;5;28;01mTrue\u001b[39;00m\n\u001b[1;32m     16\u001b[0m \u001b[38;5;28;01melif\u001b[39;00m aList[mid] \u001b[38;5;241m>\u001b[39m num:\n\u001b[0;32m---> 17\u001b[0m     alist \u001b[38;5;241m=\u001b[39m alise[:mid]\n\u001b[1;32m     18\u001b[0m     \u001b[38;5;28mprint\u001b[39m(aList)\n",
      "\u001b[0;31mNameError\u001b[0m: name 'alise' is not defined"
     ]
    }
   ],
   "source": [
    "# Setting up inports and generating a list of random numbers:\n",
    "\n",
    "import random\n",
    "\n",
    "nums = [random.randint(0,20) for i in range(10)]\n",
    "\n",
    "print(sorted(nums))\n",
    "\n",
    "\n",
    "def binarySearch(aList, num):\n",
    "    aList.sort()\n",
    "    mid = len(aList) // 2   # two forward slashes means floor division (round down ot the nearest whole number)\n",
    "    \n",
    "    if aList[mid] == num:\n",
    "        return True\n",
    "    elif aList[mid] > num:\n",
    "        alist = aList[:mid]\n",
    "        print(aList)\n",
    "\n",
    "\n",
    "print(binarySearch(nums,3))"
   ]
  }
 ],
 "metadata": {
  "kernelspec": {
   "display_name": "base",
   "language": "python",
   "name": "python3"
  },
  "language_info": {
   "codemirror_mode": {
    "name": "ipython",
    "version": 3
   },
   "file_extension": ".py",
   "mimetype": "text/x-python",
   "name": "python",
   "nbconvert_exporter": "python",
   "pygments_lexer": "ipython3",
   "version": "3.12.4"
  }
 },
 "nbformat": 4,
 "nbformat_minor": 2
}
