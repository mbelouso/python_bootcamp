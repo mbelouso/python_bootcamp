{
 "cells": [
  {
   "cell_type": "code",
   "execution_count": 9,
   "metadata": {},
   "outputs": [
    {
     "name": "stdout",
     "output_type": "stream",
     "text": [
      "The Area of the rectangle is: 25.0 units^2\n"
     ]
    }
   ],
   "source": [
    "# Make an object that is capable of calculating the area of a rectangle in a method, then ask the user for inputs for x and y and instantiate the object and return the area\n",
    "\n",
    "\n",
    "class AreaCalc():\n",
    "    def __init__(self,x,y):\n",
    "        self.x = x\n",
    "        self.y = y\n",
    "    def area(self):\n",
    "        area = self.x * self.y\n",
    "        return area\n",
    "    \n",
    "rectangle_x = float(input(\"What is the x distance of the rectangle?\"))\n",
    "rectangle_y = float(input(\"What is the y distance of the rectangle?\"))\n",
    "\n",
    "rectangle = AreaCalc(rectangle_x,rectangle_y)\n",
    "\n",
    "print(\"The Area of the rectangle is: {} units^2\".format(rectangle.area()))"
   ]
  }
 ],
 "metadata": {
  "kernelspec": {
   "display_name": "bootcamp",
   "language": "python",
   "name": "python3"
  },
  "language_info": {
   "codemirror_mode": {
    "name": "ipython",
    "version": 3
   },
   "file_extension": ".py",
   "mimetype": "text/x-python",
   "name": "python",
   "nbconvert_exporter": "python",
   "pygments_lexer": "ipython3",
   "version": "3.7.12"
  }
 },
 "nbformat": 4,
 "nbformat_minor": 2
}
