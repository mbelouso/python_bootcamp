{
 "cells": [
  {
   "cell_type": "markdown",
   "id": "3acf228f",
   "metadata": {},
   "source": [
    "# Inputs and Conditionals"
   ]
  },
  {
   "cell_type": "code",
   "execution_count": 1,
   "id": "557be41a",
   "metadata": {},
   "outputs": [
    {
     "name": "stdout",
     "output_type": "stream",
     "text": [
      "Matt\n"
     ]
    }
   ],
   "source": [
    "# accepting and outputting user input\n",
    "print(input(\"What is your name?\"))"
   ]
  },
  {
   "cell_type": "code",
   "execution_count": 2,
   "id": "5abd37d1",
   "metadata": {},
   "outputs": [
    {
     "name": "stdout",
     "output_type": "stream",
     "text": [
      "Hello Matt!\n"
     ]
    }
   ],
   "source": [
    "# saving what the user inputs\n",
    "ans = input(\"What is your name? \")\n",
    "print(\"Hello {}!\".format(ans))"
   ]
  },
  {
   "cell_type": "code",
   "execution_count": 5,
   "id": "fffb32ff",
   "metadata": {},
   "outputs": [
    {
     "name": "stdout",
     "output_type": "stream",
     "text": [
      "Your number is 2, and it of the variable type <class 'int'>\n"
     ]
    }
   ],
   "source": [
    "# Write a block of code that asks for an input, the input should be a number, and then it should output the number and what type of variable it is:\n",
    "num1 = float(input(\"What is your number? \"))\n",
    "\n",
    "\n",
    "print(\"Your number is {}, and it of the variable type\".format(num1),type(num1))"
   ]
  },
  {
   "cell_type": "code",
   "execution_count": null,
   "id": "198a3c4d",
   "metadata": {},
   "outputs": [],
   "source": [
    "# how to check the data type of a variable\n",
    "num = 5\n",
    "print(type(num))"
   ]
  },
  {
   "cell_type": "code",
   "execution_count": null,
   "id": "052558ce",
   "metadata": {},
   "outputs": [],
   "source": [
    "# converting a variable from one data type to another\n",
    "num = \"9\"\n",
    "print(type(num))\n",
    "num = int(num) # re-declaring num to store and integer\n",
    "print(type(num)) # checking type to ensure conversion"
   ]
  },
  {
   "cell_type": "code",
   "execution_count": null,
   "id": "75747583",
   "metadata": {},
   "outputs": [],
   "source": [
    "# working with user input to perform calculations\n",
    "ans = input(\"Type a number to add: \")\n",
    "print(type(ans))\n",
    "result = 100 + int(ans)\n",
    "print(\"100 + {} = {}\".format(ans,result))"
   ]
  },
  {
   "cell_type": "code",
   "execution_count": null,
   "id": "ce4f8922",
   "metadata": {},
   "outputs": [],
   "source": [
    "# using try and except blocks, use tab to indent where necessary\n",
    "try:\n",
    "    ans=float(input(\"Type a number to add: \"))\n",
    "    print(\"100 + {} = {}\".format(ans, 100+ans))\n",
    "except:\n",
    "    print(\"You did not put in a valid number!\")\n",
    "print(\"The program did not break!\")"
   ]
  },
  {
   "cell_type": "markdown",
   "id": "709b3b0a",
   "metadata": {},
   "source": [
    "Excercises"
   ]
  },
  {
   "cell_type": "code",
   "execution_count": null,
   "id": "66bef0d2",
   "metadata": {},
   "outputs": [],
   "source": [
    "# converting True to boolean\n",
    "statement = \"True\"\n",
    "print(type(statement))\n",
    "statement=bool(statement)\n",
    "print(type(statement))"
   ]
  },
  {
   "cell_type": "code",
   "execution_count": null,
   "id": "8cf4cf14",
   "metadata": {},
   "outputs": [],
   "source": [
    "# simple addition calculator\n",
    "print(\"Enter two numbers to be added together: \")\n",
    "x=input(\"What is the first number: \")\n",
    "y=input(\"What is the second number: \")\n",
    "sum=float(x)+float(y)\n",
    "print(\"The sum is: {}\".format(sum))"
   ]
  },
  {
   "cell_type": "code",
   "execution_count": null,
   "id": "288ac262",
   "metadata": {},
   "outputs": [],
   "source": [
    "# Enter car details\n",
    "print(\"Please input your car details\")\n",
    "year=input(\"What year was your car made: \")\n",
    "make=input(\"What is the model name of your car: \")\n",
    "print(\"You cars year and model are: {} {}\".format(int(year),make))\n",
    "\n"
   ]
  },
  {
   "cell_type": "markdown",
   "id": "62e507f5",
   "metadata": {},
   "source": [
    "If Statements"
   ]
  },
  {
   "cell_type": "code",
   "execution_count": null,
   "id": "5652c591",
   "metadata": {},
   "outputs": [],
   "source": [
    "# using an if statement to only run code if the condition is met\n",
    "x,y=5,10\n",
    "if x<y:\n",
    "    print(\"x is less than y\")"
   ]
  },
  {
   "cell_type": "code",
   "execution_count": null,
   "id": "605fddbe",
   "metadata": {},
   "outputs": [],
   "source": [
    "# Get the user to input two integers, and ensure that the variables are read as integers, and then us an if statement to determine which number is biggest and print the biggest number\n"
   ]
  },
  {
   "cell_type": "code",
   "execution_count": null,
   "id": "ffe8bc19",
   "metadata": {},
   "outputs": [],
   "source": [
    "# checking user input\n",
    "ans = int(input(\"What is 5+5? \"))\n",
    "if ans==10:\n",
    "    print(\"You got it right!\")\n",
    "else:\n",
    "    print(\"You definitely got it wrong!\")"
   ]
  },
  {
   "cell_type": "code",
   "execution_count": null,
   "id": "901e184f",
   "metadata": {},
   "outputs": [],
   "source": [
    "# using the keyword 'and' in an 'if statement'\n",
    "x,y,z=5,10,5\n",
    "if x<y and x==z:\n",
    "    print(\"Both statements are true\")"
   ]
  },
  {
   "cell_type": "code",
   "execution_count": null,
   "id": "f871a60a",
   "metadata": {},
   "outputs": [],
   "source": [
    "# using the keyword 'or' in an 'if statement'\n",
    "x,y,z=5,10,5\n",
    "if x<y or x!=z:\n",
    "    print(\"One or both statements were true\")"
   ]
  },
  {
   "cell_type": "code",
   "execution_count": 17,
   "id": "14caea04",
   "metadata": {},
   "outputs": [],
   "source": [
    "# using the keywork 'not' in an 'if statement'\n",
    "flag = False # Try setting flag = True and assess output\n",
    "if not flag:\n",
    "    print(\"Flag is False\")"
   ]
  },
  {
   "cell_type": "code",
   "execution_count": null,
   "id": "e5e60b44",
   "metadata": {},
   "outputs": [],
   "source": [
    "# using the keyword 'in' within an 'if statement'\n",
    "word = \"Baseball\"\n",
    "if 'b' in word:\n",
    "    print(\"{} contains the character b\".format(word))"
   ]
  },
  {
   "cell_type": "code",
   "execution_count": null,
   "id": "fd7e4e97",
   "metadata": {},
   "outputs": [],
   "source": [
    "# using the keyowrd 'not in' within an 'if statement'\n",
    "word = \"Baseball\"\n",
    "if \"x\" not in word:\n",
    "    print(\"{} does not contain the character x\".format(word))"
   ]
  },
  {
   "cell_type": "markdown",
   "id": "00f68c3d",
   "metadata": {},
   "source": [
    "Exercises"
   ]
  },
  {
   "cell_type": "code",
   "execution_count": null,
   "id": "c4c19b00",
   "metadata": {},
   "outputs": [],
   "source": [
    "# See if the word a user inputs includes and 'es'\n",
    "print(\"Program to check to see if 'es' is in the inputted word\")\n",
    "word=input(\"Input your word to check: \")\n",
    "if \"es\" in word:\n",
    "    print(\"Your word {} contains an 'es'\".format(word))\n",
    "else:\n",
    "    print(\"You word does not contain and 'es'\")"
   ]
  },
  {
   "cell_type": "code",
   "execution_count": null,
   "id": "a0f4dfd3",
   "metadata": {},
   "outputs": [],
   "source": [
    "# See if a word ends in 'ing'\n",
    "print(\"Program to check to see if a word ends in 'ing'\")\n",
    "word=input(\"Input your word to check: \")\n",
    "if word[-3::1]==\"ing\":\n",
    "    print(\"Your word {} ends in ing\".format(word))\n",
    "else:\n",
    "    print(\"Your word does not end in 'ing'\")"
   ]
  },
  {
   "cell_type": "code",
   "execution_count": null,
   "id": "e2e8429c",
   "metadata": {},
   "outputs": [],
   "source": [
    "# another solution\n",
    "print(\"Program to check to see if a word ends in 'ing'\")\n",
    "word=input(\"Input your word to check: \")\n",
    "ending=word[-3::1]\n",
    "if \"ing\" in ending:\n",
    "    print(\"Your word {} ends in ing\".format(word))\n",
    "else:\n",
    "    print(\"Your word does not end in 'ing'\")"
   ]
  },
  {
   "cell_type": "code",
   "execution_count": null,
   "id": "6ed3c0f2",
   "metadata": {},
   "outputs": [],
   "source": [
    "# compare two words\n",
    "print(\"Compare two words, input is not case sensetive\")\n",
    "word1=input(\"Input first word: \")\n",
    "word2=input(\"Input second word: \")\n",
    "if word1.lower()==word2.lower():\n",
    "    print (\"Your two words are the same\")\n",
    "else:\n",
    "    print (\"Your words are different\")"
   ]
  },
  {
   "cell_type": "code",
   "execution_count": null,
   "id": "9cc0a2b0",
   "metadata": {},
   "outputs": [],
   "source": [
    "# Returning exponents\n",
    "print(\"Enter and number and its square will be returned if it larger than 10\")\n",
    "num1=float(input(\"Enter your number: \"))\n",
    "if num1>10:\n",
    "    print(\"The square of your number is: {}\".format(num1 ** 2))\n",
    "else:\n",
    "    print(\"Your number is not greater than 10\")"
   ]
  },
  {
   "cell_type": "markdown",
   "id": "04c6d842",
   "metadata": {},
   "source": [
    "Elif statements"
   ]
  },
  {
   "cell_type": "code",
   "execution_count": null,
   "id": "b09a6dc4",
   "metadata": {},
   "outputs": [],
   "source": [
    "# using the elif conditional statement\n",
    "x,y=5,10\n",
    "if x>y:\n",
    "    print(\"x is greater\")\n",
    "elif x<y:\n",
    "    print(\"x is less\")"
   ]
  },
  {
   "cell_type": "code",
   "execution_count": null,
   "id": "54410f25",
   "metadata": {},
   "outputs": [],
   "source": [
    "# checking more than one elif conditional statment\n",
    "x,y=5,10\n",
    "if x>y:\n",
    "    print(\"x is greater\")\n",
    "elif (x+10) < y:\n",
    "    print(\"x is less\")\n",
    "elif (x+5)==y:\n",
    "    print(\"Equal\")"
   ]
  },
  {
   "cell_type": "code",
   "execution_count": null,
   "id": "9d1ea3df",
   "metadata": {},
   "outputs": [],
   "source": [
    "# writing multiple conditionals within each other - multiple block levels\n",
    "x,y,z=5,10,5\n",
    "if x>y:\n",
    "    print(\"greater\")\n",
    "elif x<=y:\n",
    "    if x == z:\n",
    "        print(\"x is equal to z\")\n",
    "    elif x != z: #note not equal is !=\n",
    "        print(\"x is not equal to z\")\n"
   ]
  },
  {
   "cell_type": "code",
   "execution_count": null,
   "id": "d76a9d9d",
   "metadata": {},
   "outputs": [],
   "source": [
    "# testing output of two if statements in a row that are both true\n",
    "x,y,z=5,10,5\n",
    "if x<y:\n",
    "    print(\"x is less\")\n",
    "if x==z:\n",
    "    print(\"x is equal\")"
   ]
  },
  {
   "cell_type": "code",
   "execution_count": null,
   "id": "eb2ffd67",
   "metadata": {},
   "outputs": [],
   "source": [
    "# testing output of an if and elif statement that are both true\n",
    "x,y,z=5,10,5\n",
    "if x<y:\n",
    "    print(\"x is less\")\n",
    "elif x==z:\n",
    "    print(\"x is equal to z\")"
   ]
  },
  {
   "cell_type": "markdown",
   "id": "adef310a",
   "metadata": {},
   "source": [
    "Exercises"
   ]
  },
  {
   "cell_type": "code",
   "execution_count": null,
   "id": "00d3eaac",
   "metadata": {},
   "outputs": [],
   "source": [
    "# Higher or lower than 100\n",
    "print(\"Program to check if an inputted number is less or greater than 100\")\n",
    "num1=float(input(\"Enter the number to check: \"))\n",
    "if num1>100:\n",
    "    print(\"Your number is greater than 100\")\n",
    "elif num1<100:\n",
    "    print(\"Your number is less than 100\")\n",
    "elif num1==100:\n",
    "    print(\"Your number exactly equals 100\")\n"
   ]
  },
  {
   "cell_type": "code",
   "execution_count": null,
   "id": "33c189c2",
   "metadata": {},
   "outputs": [],
   "source": [
    "# fixing supplied code\n",
    "x,y=5,10\n",
    "\n",
    "if x>y:\n",
    "    print(\"greater\")\n",
    "elif x < y:\n",
    "    print(\"lower\")\n",
    "elif x==y:\n",
    "    print(\"same\")"
   ]
  },
  {
   "cell_type": "markdown",
   "id": "63e54ae0",
   "metadata": {},
   "source": [
    "Else Statements"
   ]
  },
  {
   "cell_type": "code",
   "execution_count": null,
   "id": "39093799",
   "metadata": {},
   "outputs": [],
   "source": [
    "# using and else statement\n",
    "name = \"John\"\n",
    "if name == \"Jacob\":\n",
    "    print(\"Hello Jacob\")\n",
    "else:\n",
    "    print(\"Hello {}!\".format(name))"
   ]
  },
  {
   "cell_type": "code",
   "execution_count": null,
   "id": "2e2f5a94",
   "metadata": {},
   "outputs": [],
   "source": [
    "# writing a full conditional statement with ef,elif,else\n",
    "name = \"John\"\n",
    "if name[0]==\"A\":\n",
    "    print(\"Name starts with an A\")\n",
    "elif name[0]==\"B\":\n",
    "    print(\"Name starts with a B\")\n",
    "elif name[0]==\"C\":\n",
    "    print(\"Name starts with a C\")\n",
    "else:\n",
    "    print(\"Name starts with a {}\".format(name[0]))"
   ]
  },
  {
   "cell_type": "markdown",
   "id": "726760b5",
   "metadata": {},
   "source": [
    "Exercises"
   ]
  },
  {
   "cell_type": "code",
   "execution_count": null,
   "id": "879bee01",
   "metadata": {},
   "outputs": [],
   "source": [
    "name = \"John\"\n",
    "if name == \"Jack\":\n",
    "    print(\"Hello Jack\")\n",
    "else:\n",
    "    print(\"Hello {}\".format(name))\n"
   ]
  },
  {
   "cell_type": "code",
   "execution_count": null,
   "id": "5e15b19f",
   "metadata": {},
   "outputs": [],
   "source": [
    "# Good morning Soldier\n",
    "print(\"Program to figure out how to greet someone based on time\")\n",
    "time=float(input(\"Enter the time in standard 24hr format i.e. 2200 for 10pm: \"))\n",
    "\n",
    "if time <= 1200:\n",
    "    print(\"Good Morning Comrade!\")\n",
    "elif time > 1200 and time <=1700:\n",
    "    print(\"Good Afternoon Comrade!\")\n",
    "elif time >1700:\n",
    "    print(\"Good Evening Comrade!\")\n",
    "else:\n",
    "    print(\"Go to sleep!\")"
   ]
  },
  {
   "cell_type": "markdown",
   "id": "a907e61f",
   "metadata": {},
   "source": [
    "# Project Calculator"
   ]
  },
  {
   "cell_type": "code",
   "execution_count": null,
   "id": "88f854b4",
   "metadata": {},
   "outputs": [],
   "source": [
    "# step 1: ask for users input to get the ball rolling\n",
    "operation = input(\"Would like to add/subtract/multiply/divide? \").lower()\n",
    "\n",
    "#step 2: ask for numbers, alert order matters for subtracting and dividing\n",
    "if operation == \"subtract\" or operation == \"divide\":\n",
    "    print(\"You chose {}.\".format(operation))\n",
    "    print(\"Keep in mind with this operation order of numbers matters.\")\n",
    "num1=float(input(\"What is the first number: \"))\n",
    "num2=float(input(\"What is the second number: \"))\n",
    "\n",
    "print(\"Your two numbers are {} and {}.\".format(num1,num2))\n",
    "str1=input(\"Would you like to change their order (y/n): \")\n",
    "\n",
    "if str1==\"n\":\n",
    "\n",
    "    try:\n",
    "        if operation == \"add\":\n",
    "            result= num1+num2\n",
    "            print(\"{} + {} = {}\".format(num1,num2,result))\n",
    "        elif operation ==\"subtract\":\n",
    "            result= num1-num2\n",
    "            print(\"{} - {} = {}\".format(num1,num2,result))\n",
    "        elif operation ==\"multiply\":\n",
    "            result= num1*num2\n",
    "            print(\"{} x {} = {}\".format(num1,num2,result))\n",
    "        elif operation ==\"divide\":\n",
    "            result= num1/num2\n",
    "            print(\"{} / {} = {}\".format(num1,num2,result))\n",
    "        else:\n",
    "            print(\"Sorry, but {} is not a valid option\".format(operation))\n",
    "    except:\n",
    "        print(\"Error: Your numbers are crazy!\")\n",
    "        \n",
    "else:\n",
    "    try:\n",
    "        if operation == \"add\":\n",
    "            result= num2+num1\n",
    "            print(\"{} + {} = {}\".format(num2,num1,result))\n",
    "        elif operation ==\"subtract\":\n",
    "            result= num2-num1\n",
    "            print(\"{} - {} = {}\".format(num2,num1,result))\n",
    "        elif operation ==\"multiply\":\n",
    "            result= num2*num1\n",
    "            print(\"{} x {} = {}\".format(num2,num1,result))\n",
    "        elif operation ==\"divide\":\n",
    "            result= num2/num1\n",
    "            print(\"{} / {} = {}\".format(num2,num1,result))\n",
    "        else:\n",
    "            print(\"Sorry, but {} is not a valid option\".format(operation))\n",
    "    except:\n",
    "        print(\"Error: Your numbers are crazy!\")\n"
   ]
  },
  {
   "cell_type": "code",
   "execution_count": null,
   "id": "39e4be86",
   "metadata": {},
   "outputs": [],
   "source": []
  }
 ],
 "metadata": {
  "kernelspec": {
   "display_name": "base",
   "language": "python",
   "name": "python3"
  },
  "language_info": {
   "codemirror_mode": {
    "name": "ipython",
    "version": 3
   },
   "file_extension": ".py",
   "mimetype": "text/x-python",
   "name": "python",
   "nbconvert_exporter": "python",
   "pygments_lexer": "ipython3",
   "version": "3.12.4"
  }
 },
 "nbformat": 4,
 "nbformat_minor": 5
}
