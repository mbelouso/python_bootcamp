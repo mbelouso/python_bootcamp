{
 "cells": [
  {
   "cell_type": "markdown",
   "metadata": {},
   "source": [
    "# User Database with CSV files"
   ]
  },
  {
   "cell_type": "code",
   "execution_count": 1,
   "metadata": {},
   "outputs": [],
   "source": [
    "# Setting up imports and packages\n",
    "\n",
    "import csv\n",
    "from IPython.display import clear_output"
   ]
  },
  {
   "cell_type": "code",
   "execution_count": 4,
   "metadata": {},
   "outputs": [],
   "source": [
    "# hander user rego and writing to CSV\n",
    "\n",
    "def registerUser():\n",
    "    with open(\"users.csv\",mode=\"a\",newline=\"\") as f:\n",
    "        writer = csv.writer(f, delimiter=\",\")\n",
    "        print(\"To register, please enter you info:\")\n",
    "        email = input(\"Email: \")\n",
    "        password = input(\"Password: \")\n",
    "        password2 = input(\"Re-enter password: \")\n",
    "        clear_output()\n",
    "        if password == password2:\n",
    "            writer.writerow([email,password])\n",
    "\n",
    "def loginUser():\n",
    "    print(\"To login, please enter your info: \")\n",
    "    email = input(\"Email: \")\n",
    "    password = input(\"Password: \")\n",
    "    clear_output()\n",
    "    with open(\"users.csv\",mode=\"r\") as f:\n",
    "        reader = csv.reader(f,delimiter=\",\")\n",
    "        for row in reader:\n",
    "            if row == [email,password]:\n",
    "                print(\"You are now logged in!\")\n",
    "                return True\n",
    "    print(\"Something went wrong, try again\")\n",
    "    return False\n",
    "\n",
    "def changePassword():\n",
    "    print(\"Change your password:\")\n",
    "    with open(\"users.csv\",mode=\"a+\") as f:\n",
    "        writer = csv.writer(f, delimiter=\",\")\n",
    "        email = input(\"Reenter your email: \")\n",
    "        new_password = input(\"Enter your new password:\")\n",
    "        new_password2 = input(\"Reenter your new password: \")\n",
    "        if new_password == new_password2:\n",
    "            writer.writerow([email,new_password])\n",
    "        else:\n",
    "            print(\"Passwords don't match, try again\")\n",
    "        \n",
    "\n"
   ]
  },
  {
   "cell_type": "code",
   "execution_count": null,
   "metadata": {},
   "outputs": [
    {
     "name": "stdout",
     "output_type": "stream",
     "text": [
      "Change your password:\n",
      "1. Logout\n",
      "2.Change Password\n",
      "3. Quit\n"
     ]
    }
   ],
   "source": [
    "# main loop\n",
    "# declare variables\n",
    "\n",
    "active = True\n",
    "logged_in = False\n",
    "\n",
    "while active:\n",
    "    if logged_in:\n",
    "        print(\"1. Logout\\n2.Change Password\\n3. Quit\")\n",
    "    else:\n",
    "        print(\"1. Login\\n3. Register\\n3. Quit\")\n",
    "    choice = input(\"What would you like to do? \").lower()\n",
    "    clear_output()\n",
    "    if choice == \"register\" and logged_in == False:\n",
    "        registerUser()\n",
    "    elif choice == \"login\" and logged_in == False:\n",
    "        logged_in = loginUser()\n",
    "    elif choice == \"quit\":\n",
    "        active == False\n",
    "        print(\"Thanks for using our software!\")\n",
    "    elif choice == \"logout\" and logged_in == True:\n",
    "        logged_in = False\n",
    "        print(\"You are now logged out.\")\n",
    "    elif choice ==\"change password\" and logged_in == True:\n",
    "        changePassword()\n",
    "    else:\n",
    "        print(\"Sorry, enter a valid option.\")"
   ]
  }
 ],
 "metadata": {
  "kernelspec": {
   "display_name": "base",
   "language": "python",
   "name": "python3"
  },
  "language_info": {
   "codemirror_mode": {
    "name": "ipython",
    "version": 3
   },
   "file_extension": ".py",
   "mimetype": "text/x-python",
   "name": "python",
   "nbconvert_exporter": "python",
   "pygments_lexer": "ipython3",
   "version": "3.12.4"
  }
 },
 "nbformat": 4,
 "nbformat_minor": 2
}
