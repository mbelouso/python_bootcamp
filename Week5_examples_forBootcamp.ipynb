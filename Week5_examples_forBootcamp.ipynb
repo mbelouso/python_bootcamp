{
 "cells": [
  {
   "cell_type": "code",
   "execution_count": 1,
   "metadata": {},
   "outputs": [
    {
     "name": "stdout",
     "output_type": "stream",
     "text": [
      "Hello World\n"
     ]
    }
   ],
   "source": [
    "# This is a comment, and my very first line of code\n",
    "print(\"Hello World\")  # This is also a comment"
   ]
  },
  {
   "cell_type": "code",
   "execution_count": 2,
   "metadata": {},
   "outputs": [
    {
     "name": "stdout",
     "output_type": "stream",
     "text": [
      "5\n"
     ]
    }
   ],
   "source": [
    "# This is a variable and how to print a variable\n",
    "x = 5\n",
    "print(x)"
   ]
  },
  {
   "cell_type": "code",
   "execution_count": 1,
   "metadata": {},
   "outputs": [
    {
     "name": "stdout",
     "output_type": "stream",
     "text": [
      "{'var0': 0, 'var1': 3, 'var2': 5, 'var3': 7, 'var4': 9, 'var5': 10}\n"
     ]
    }
   ],
   "source": [
    "# Code snippet from deepseek: \n",
    "\n",
    "# Define the list\n",
    "numbers = [0, 3, 5, 7, 9, 10]\n",
    "\n",
    "# Initialize an empty dictionary to store variables\n",
    "variables_dict = {}\n",
    "\n",
    "# Use a for loop to create a new variable for each item in the list\n",
    "for index, value in enumerate(numbers):\n",
    "    # Create a variable name by concatenating 'var' with the index (e.g., var0, var1, etc.)\n",
    "    variable_name = f'var{index}'\n",
    "    # Assign the value to the new variable name in the dictionary\n",
    "    variables_dict[variable_name] = value\n",
    "\n",
    "# Print the dictionary to see the results\n",
    "print(variables_dict)"
   ]
  }
 ],
 "metadata": {
  "kernelspec": {
   "display_name": "bootcamp",
   "language": "python",
   "name": "python3"
  },
  "language_info": {
   "codemirror_mode": {
    "name": "ipython",
    "version": 3
   },
   "file_extension": ".py",
   "mimetype": "text/x-python",
   "name": "python",
   "nbconvert_exporter": "python",
   "pygments_lexer": "ipython3",
   "version": "3.7.12"
  }
 },
 "nbformat": 4,
 "nbformat_minor": 2
}
