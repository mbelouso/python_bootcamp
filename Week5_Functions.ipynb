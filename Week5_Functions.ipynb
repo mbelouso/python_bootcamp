{
 "cells": [
  {
   "cell_type": "markdown",
   "metadata": {},
   "source": [
    "## Learning how Functions work in Python"
   ]
  },
  {
   "cell_type": "code",
   "execution_count": 1,
   "metadata": {},
   "outputs": [
    {
     "name": "stdout",
     "output_type": "stream",
     "text": [
      "Name: John Smith\n",
      "Age: 45\n",
      "Name: John Smith\n",
      "Age: 45\n"
     ]
    }
   ],
   "source": [
    "# writing your first function\n",
    "def printInfo( ):               # defines what the function does when called\n",
    "      print(\"Name: John Smith\")\n",
    "      print(\"Age: 45\")\n",
    "printInfo( )                    # calls the function to run\n",
    "printInfo( )                    # calls the function again"
   ]
  },
  {
   "cell_type": "code",
   "execution_count": 2,
   "metadata": {},
   "outputs": [
    {
     "name": "stdout",
     "output_type": "stream",
     "text": [
      "15\n"
     ]
    }
   ],
   "source": [
    "# performing a calculation in a function\n",
    "def calc( ):\n",
    "      x, y = 5, 10\n",
    "      print(x + y)\n",
    "calc( )              # will run the block of code within calc and output 15"
   ]
  },
  {
   "cell_type": "code",
   "execution_count": 3,
   "metadata": {},
   "outputs": [
    {
     "name": "stdout",
     "output_type": "stream",
     "text": [
      "Matt Belousoff\n"
     ]
    }
   ],
   "source": [
    "# Excercises\n",
    "\n",
    "def myName():\n",
    "    print(\"Matt Belousoff\")\n",
    "\n",
    "myName()"
   ]
  },
  {
   "cell_type": "code",
   "execution_count": 13,
   "metadata": {},
   "outputs": [
    {
     "name": "stdout",
     "output_type": "stream",
     "text": [
      "My Favorite toppings are: ['bacon', 'cheese', 'proscuitto']\n",
      "My Favorite toppings are: ['bacon', 'cheese', 'proscuitto']\n",
      "My Favorite toppings are: ['bacon', 'cheese', 'proscuitto']\n"
     ]
    }
   ],
   "source": [
    "# Exercises\n",
    "pizza_toppings = [\"bacon\",\"cheese\",\"proscuitto\"]\n",
    "def pizzaToppings ():\n",
    "    print(\"My Favorite toppings are: {}\".format(pizza_toppings))\n",
    "\n",
    "pizzaToppings()\n",
    "pizzaToppings()\n",
    "pizzaToppings()"
   ]
  },
  {
   "cell_type": "code",
   "execution_count": null,
   "metadata": {},
   "outputs": [],
   "source": [
    "# Passing parameters into a function"
   ]
  }
 ],
 "metadata": {
  "kernelspec": {
   "display_name": "base",
   "language": "python",
   "name": "python3"
  },
  "language_info": {
   "codemirror_mode": {
    "name": "ipython",
    "version": 3
   },
   "file_extension": ".py",
   "mimetype": "text/x-python",
   "name": "python",
   "nbconvert_exporter": "python",
   "pygments_lexer": "ipython3",
   "version": "3.12.4"
  }
 },
 "nbformat": 4,
 "nbformat_minor": 2
}
