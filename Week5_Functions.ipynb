{
 "cells": [
  {
   "cell_type": "markdown",
   "metadata": {},
   "source": [
    "## Learning how Functions work in Python"
   ]
  },
  {
   "cell_type": "code",
   "execution_count": null,
   "metadata": {},
   "outputs": [],
   "source": [
    "# writing your first function\n",
    "def printInfo( ):               # defines what the function does when called\n",
    "      print(\"Name: John Smith\")\n",
    "      print(\"Age: 45\")\n",
    "printInfo( )                    # calls the function to run\n",
    "printInfo( )                    # calls the function again"
   ]
  },
  {
   "cell_type": "markdown",
   "metadata": {},
   "source": [
    "# performing a calculation in a function\n",
    "def calc( ):\n",
    "      x, y = 5, 10\n",
    "      print(x + y)\n",
    "calc( )              # will run the block of code within calc and output 15"
   ]
  },
  {
   "cell_type": "code",
   "execution_count": 2,
   "metadata": {},
   "outputs": [
    {
     "name": "stdout",
     "output_type": "stream",
     "text": [
      "20\n",
      "36.85\n"
     ]
    }
   ],
   "source": [
    "def multiplyNums(num1,num2):\n",
    "    result = num1 * num2\n",
    "    print(result)\n",
    "\n",
    "multiplyNums(4,5)\n",
    "multiplyNums(6.7,5.5)"
   ]
  },
  {
   "cell_type": "markdown",
   "metadata": {},
   "source": [
    "## Exercises (Monday)"
   ]
  },
  {
   "cell_type": "code",
   "execution_count": null,
   "metadata": {},
   "outputs": [],
   "source": [
    "# Excercises\n",
    "\n",
    "def myName():\n",
    "    print(\"Matt Belousoff\")\n",
    "\n",
    "myName()"
   ]
  },
  {
   "cell_type": "code",
   "execution_count": null,
   "metadata": {},
   "outputs": [],
   "source": [
    "# Exercises\n",
    "pizza_toppings = [\"bacon\",\"cheese\",\"proscuitto\"]\n",
    "def pizzaToppings ():\n",
    "    print(\"My Favorite toppings are: {}\".format(pizza_toppings))\n",
    "\n",
    "pizzaToppings()\n",
    "pizzaToppings()\n",
    "pizzaToppings()"
   ]
  },
  {
   "cell_type": "markdown",
   "metadata": {},
   "source": [
    "# Functions cont..."
   ]
  },
  {
   "cell_type": "code",
   "execution_count": 3,
   "metadata": {},
   "outputs": [
    {
     "name": "stdout",
     "output_type": "stream",
     "text": [
      "Your name is: Matt\n",
      "Your name is: John Smith\n"
     ]
    }
   ],
   "source": [
    "\n",
    "# passing a single parameter into a function\n",
    "def printname(full_name):\n",
    "    print(\"Your name is: {}\".format(full_name))\n",
    "\n",
    "printname(\"Matt\")\n",
    "printname(\"John Smith\")"
   ]
  },
  {
   "cell_type": "code",
   "execution_count": null,
   "metadata": {},
   "outputs": [],
   "source": [
    "# passing multiple parameters into a function\n",
    "def addNums(num1, num2):\n",
    "    result = num1 + num2\n",
    "    print(\"{} + {} = {}\".format(num1,num2,result))\n",
    "\n",
    "addNums(5,8)\n",
    "addNums(3.5,5.5)"
   ]
  },
  {
   "cell_type": "code",
   "execution_count": 5,
   "metadata": {},
   "outputs": [
    {
     "name": "stdout",
     "output_type": "stream",
     "text": [
      "4\n",
      "16\n",
      "25\n",
      "100\n",
      "1\n",
      "9\n",
      "36\n"
     ]
    }
   ],
   "source": [
    "# parsing lists into functions\n",
    "\n",
    "numbers1 = [2,4,5,10]\n",
    "numbers2 = [1,3,6]\n",
    "\n",
    "def squares(nums):\n",
    "    for num in nums:\n",
    "        print(num**2)\n",
    "\n",
    "squares(numbers1)\n",
    "squares(numbers2)"
   ]
  },
  {
   "cell_type": "code",
   "execution_count": 6,
   "metadata": {},
   "outputs": [
    {
     "name": "stdout",
     "output_type": "stream",
     "text": [
      "16\n",
      "25\n",
      "36\n"
     ]
    }
   ],
   "source": [
    "numbers3=[4,5,6]\n",
    "squares(numbers3)"
   ]
  },
  {
   "cell_type": "code",
   "execution_count": 7,
   "metadata": {},
   "outputs": [
    {
     "name": "stdout",
     "output_type": "stream",
     "text": [
      "Area: 12.56\n",
      "Area: 12.6\n"
     ]
    }
   ],
   "source": [
    "# Setting defaults parameters in functions\n",
    "\n",
    "def calcArea(r, pi=3.14):\n",
    "    area = pi * (r**2)\n",
    "    print(\"Area: {}\".format(area))\n",
    "\n",
    "calcArea(2)\n",
    "\n",
    "calcArea(2,pi=3.15)"
   ]
  },
  {
   "cell_type": "code",
   "execution_count": 8,
   "metadata": {},
   "outputs": [
    {
     "name": "stdout",
     "output_type": "stream",
     "text": [
      "John Smith\n",
      "Matthew James Belousoff\n"
     ]
    }
   ],
   "source": [
    "# Optional parameters, and setting defaults\n",
    "\n",
    "def printName(first, last, middle=\"\"):\n",
    "    if middle:\n",
    "        print(\"{} {} {}\".format(first,middle,last))\n",
    "    else:\n",
    "        print(\"{} {}\".format(first, last))\n",
    "\n",
    "printName(\"John\", \"Smith\")\n",
    "printName(\"Matthew\", \"Belousoff\", \"James\")"
   ]
  },
  {
   "cell_type": "code",
   "execution_count": null,
   "metadata": {},
   "outputs": [],
   "source": [
    "# explicitly assigning values to parameters by referencing the name\n",
    "\n",
    "def addNums(num1, num2):\n",
    "    print(num2)\n",
    "    print(num1)\n",
    "\n",
    "addNums(5,num2 = 2.5)"
   ]
  },
  {
   "cell_type": "code",
   "execution_count": 13,
   "metadata": {},
   "outputs": [
    {
     "name": "stdout",
     "output_type": "stream",
     "text": [
      "<class 'tuple'>\n",
      "5\n",
      "True\n",
      "Jess\n",
      "<class 'tuple'>\n",
      "[0, 1, 2, 3, 4]\n",
      "test\n"
     ]
    }
   ],
   "source": [
    "# learning how to use *args take in a tuple of arbitary values\n",
    "def outputData(name, *args):\n",
    "    print(type(args))\n",
    "    for arg in args:\n",
    "        print(arg)\n",
    "\n",
    "outputData(\"John Smith\",5, True, \"Jess\")\n",
    "\n",
    "outputData([0,1,2,3],[0,1,2,3,4],\"test\")\n",
    "\n",
    "# note \"John Smith\" isn't printed as there is two parameters in function\n"
   ]
  },
  {
   "cell_type": "code",
   "execution_count": null,
   "metadata": {},
   "outputs": [],
   "source": [
    "# learning how to use *args take in a tuple of arbitary values\n",
    "def outputData(*args):\n",
    "    print(type(args))\n",
    "    for arg in args:\n",
    "        print(arg)\n",
    "\n",
    "outputData(\"John Smith\",5, True, \"Jess\")"
   ]
  },
  {
   "cell_type": "code",
   "execution_count": 14,
   "metadata": {},
   "outputs": [
    {
     "name": "stdout",
     "output_type": "stream",
     "text": [
      "<class 'dict'>\n",
      "John Smith\n",
      "5\n"
     ]
    }
   ],
   "source": [
    "# learning how to use kwargs to take in arbitary values\n",
    "#kwargs = key word argument\n",
    "\n",
    "def outputData(**kwargs):\n",
    "    print(type(kwargs))\n",
    "    print(kwargs[\"name\"])\n",
    "    print(kwargs[\"num\"])\n",
    "\n",
    "outputData(name=\"John Smith\", num = 5, b = True)"
   ]
  },
  {
   "cell_type": "code",
   "execution_count": 17,
   "metadata": {},
   "outputs": [
    {
     "name": "stdout",
     "output_type": "stream",
     "text": [
      "T\n"
     ]
    },
    {
     "data": {
      "text/plain": [
       "True"
      ]
     },
     "execution_count": 17,
     "metadata": {},
     "output_type": "execute_result"
    }
   ],
   "source": [
    "word = \"Test\"\n",
    "print(word[0])\n",
    "word[0].isupper()"
   ]
  },
  {
   "cell_type": "markdown",
   "metadata": {},
   "source": [
    "## Exercises"
   ]
  },
  {
   "cell_type": "code",
   "execution_count": 20,
   "metadata": {},
   "outputs": [
    {
     "name": "stdout",
     "output_type": "stream",
     "text": [
      "Word starts with a capital\n"
     ]
    }
   ],
   "source": [
    "# Does it start with a Capital\n",
    "\n",
    "def capitalCheck(word):\n",
    "    x = word[0].isupper()\n",
    "    if x is True:\n",
    "        print(\"Word starts with a capital\")\n",
    "    else:\n",
    "        print(\"Word doesn't start with a capital\")\n",
    "    \n",
    "\n",
    "word = input(\"Please input your word:\")\n",
    "\n",
    "capitalCheck(word)\n",
    "\n",
    "\n"
   ]
  },
  {
   "cell_type": "code",
   "execution_count": null,
   "metadata": {},
   "outputs": [],
   "source": [
    "# No name function\n",
    "\n",
    "def nameFunction(first_name=\"\", last_name=\"\"):\n",
    "    if first_name and last_name:\n",
    "        print(\"Name is: {} {}\".format(first_name,last_name))\n",
    "    elif first_name or last_name:\n",
    "        print(\"Name is: {} {}\".format(first_name,last_name))\n",
    "    else:\n",
    "        print(\"No name passed in\")\n",
    "\n",
    "nameFunction(\"Matt\",\"Belousoff\")\n",
    "nameFunction(\"Matt\")\n",
    "nameFunction()"
   ]
  },
  {
   "cell_type": "markdown",
   "metadata": {},
   "source": [
    "## Return Statements"
   ]
  },
  {
   "cell_type": "code",
   "execution_count": 22,
   "metadata": {},
   "outputs": [
    {
     "name": "stdout",
     "output_type": "stream",
     "text": [
      "5\n"
     ]
    },
    {
     "ename": "NameError",
     "evalue": "name 'result' is not defined",
     "output_type": "error",
     "traceback": [
      "\u001b[0;31m---------------------------------------------------------------------------\u001b[0m",
      "\u001b[0;31mNameError\u001b[0m                                 Traceback (most recent call last)",
      "Cell \u001b[0;32mIn[22], line 7\u001b[0m\n\u001b[1;32m      3\u001b[0m     \u001b[38;5;28mprint\u001b[39m(result)\n\u001b[1;32m      5\u001b[0m addNums2(\u001b[38;5;241m2\u001b[39m,\u001b[38;5;241m3\u001b[39m)\n\u001b[0;32m----> 7\u001b[0m \u001b[38;5;28mprint\u001b[39m(result)\n",
      "\u001b[0;31mNameError\u001b[0m: name 'result' is not defined"
     ]
    }
   ],
   "source": [
    "def addNums2(num1,num2):\n",
    "    result = num1 + num2\n",
    "    print(result)\n",
    "\n",
    "addNums2(2,3)\n",
    "\n",
    "print(result)"
   ]
  },
  {
   "cell_type": "code",
   "execution_count": 23,
   "metadata": {},
   "outputs": [
    {
     "name": "stdout",
     "output_type": "stream",
     "text": [
      "10.0\n",
      "20\n"
     ]
    }
   ],
   "source": [
    "# Using Return keyword to return the sum of two numbers\n",
    "def addNums(num1, num2):\n",
    "    return num1 + num2\n",
    "\n",
    "num = addNums(5.5,4.5) #storing return value in a new variable\n",
    "\n",
    "print(num)\n",
    "print(addNums(10,10)) # print in place\n"
   ]
  },
  {
   "cell_type": "code",
   "execution_count": 29,
   "metadata": {},
   "outputs": [
    {
     "name": "stdout",
     "output_type": "stream",
     "text": [
      "4\n"
     ]
    }
   ],
   "source": [
    "def multiplyNums2(num1,num2):\n",
    "    result = num1 * num2\n",
    "    return result\n",
    "\n",
    "result1 = multiplyNums2(2,2)\n",
    "print(result1)\n"
   ]
  },
  {
   "cell_type": "code",
   "execution_count": 26,
   "metadata": {},
   "outputs": [
    {
     "name": "stdout",
     "output_type": "stream",
     "text": [
      "False\n"
     ]
    }
   ],
   "source": [
    "# Ternary operator\n",
    "# shorthand syntax using a ternary operator\n",
    "def searchList(aList, el):\n",
    "    return True if el in aList else False\n",
    "\n",
    "result = searchList([\"one\",2,\"three\"],4)\n",
    "\n",
    "print(result)"
   ]
  },
  {
   "cell_type": "markdown",
   "metadata": {},
   "source": [
    "# exercises"
   ]
  },
  {
   "cell_type": "code",
   "execution_count": null,
   "metadata": {},
   "outputs": [],
   "source": [
    "# Full Name\n",
    "\n",
    "def fullName(first_name, last_name):\n",
    "    return first_name + last_name\n",
    "\n",
    "print(fullName(\"matt\",\"belousoff\"))"
   ]
  },
  {
   "cell_type": "code",
   "execution_count": null,
   "metadata": {},
   "outputs": [
    {
     "name": "stdout",
     "output_type": "stream",
     "text": [
      "Hello\n"
     ]
    }
   ],
   "source": [
    "def userInput():\n",
    "    word = input(\"Please input a string:\")\n",
    "    return word\n",
    "\n",
    "\n",
    "user_input = userInput()\n",
    "print(user_input)\n",
    "\n",
    "\n"
   ]
  },
  {
   "cell_type": "markdown",
   "metadata": {},
   "source": [
    "# Scope and variable storage"
   ]
  },
  {
   "cell_type": "code",
   "execution_count": null,
   "metadata": {},
   "outputs": [
    {
     "ename": "UnboundLocalError",
     "evalue": "cannot access local variable 'number' where it is not associated with a value",
     "output_type": "error",
     "traceback": [
      "\u001b[0;31m---------------------------------------------------------------------------\u001b[0m",
      "\u001b[0;31mUnboundLocalError\u001b[0m                         Traceback (most recent call last)",
      "Cell \u001b[0;32mIn[20], line 6\u001b[0m\n\u001b[1;32m      3\u001b[0m \u001b[38;5;28;01mdef\u001b[39;00m \u001b[38;5;21mscopeTest\u001b[39m():\n\u001b[1;32m      4\u001b[0m     number \u001b[38;5;241m+\u001b[39m\u001b[38;5;241m=\u001b[39m \u001b[38;5;241m1\u001b[39m\n\u001b[0;32m----> 6\u001b[0m scopeTest()\n",
      "Cell \u001b[0;32mIn[20], line 4\u001b[0m, in \u001b[0;36mscopeTest\u001b[0;34m()\u001b[0m\n\u001b[1;32m      3\u001b[0m \u001b[38;5;28;01mdef\u001b[39;00m \u001b[38;5;21mscopeTest\u001b[39m():\n\u001b[0;32m----> 4\u001b[0m     number \u001b[38;5;241m+\u001b[39m\u001b[38;5;241m=\u001b[39m \u001b[38;5;241m1\u001b[39m\n",
      "\u001b[0;31mUnboundLocalError\u001b[0m: cannot access local variable 'number' where it is not associated with a value"
     ]
    }
   ],
   "source": [
    "# where global variables can be accessed\n",
    "number = 5\n",
    "def scopeTest():\n",
    "    number += 1\n",
    "\n",
    "scopeTest() # this will error as the function is limited to varibles declared within it or passed in, NOT global variables"
   ]
  },
  {
   "cell_type": "code",
   "execution_count": 28,
   "metadata": {},
   "outputs": [
    {
     "name": "stdout",
     "output_type": "stream",
     "text": [
      "function\n"
     ]
    }
   ],
   "source": [
    "# accessing variables definied in a function\n",
    "def scopeTest():\n",
    "    word = \"function\"\n",
    "    return word\n",
    "\n",
    "value = scopeTest()\n",
    "print(value)"
   ]
  },
  {
   "cell_type": "code",
   "execution_count": 22,
   "metadata": {},
   "outputs": [
    {
     "name": "stdout",
     "output_type": "stream",
     "text": [
      "Before Altering: ['baseball', 'football', 'hockey', 'basketball']\n",
      "After Altering: ['soccer', 'football', 'hockey', 'basketball']\n"
     ]
    }
   ],
   "source": [
    "# changing list tems values by index\n",
    "\n",
    "sports = [\"baseball\",\"football\",\"hockey\",\"basketball\"]\n",
    "\n",
    "def change(aList):\n",
    "    aList[0] = \"soccer\"\n",
    "\n",
    "print(\"Before Altering: {}\".format(sports))\n",
    "change(sports)\n",
    "print(\"After Altering: {}\".format(sports))"
   ]
  },
  {
   "cell_type": "markdown",
   "metadata": {},
   "source": [
    "# Exercises"
   ]
  },
  {
   "cell_type": "code",
   "execution_count": 31,
   "metadata": {},
   "outputs": [
    {
     "name": "stdout",
     "output_type": "stream",
     "text": [
      "['Bob', 'Rich', 'Amanda']\n"
     ]
    },
    {
     "ename": "IndexError",
     "evalue": "list assignment index out of range",
     "output_type": "error",
     "traceback": [
      "\u001b[0;31m---------------------------------------------------------------------------\u001b[0m",
      "\u001b[0;31mIndexError\u001b[0m                                Traceback (most recent call last)",
      "Cell \u001b[0;32mIn[31], line 12\u001b[0m\n\u001b[1;32m      9\u001b[0m \u001b[38;5;28;01mdef\u001b[39;00m \u001b[38;5;21mchangeValue\u001b[39m(aList, name, index):\n\u001b[1;32m     10\u001b[0m     aList[index] \u001b[38;5;241m=\u001b[39m name\n\u001b[0;32m---> 12\u001b[0m changeValue(names,name,index)\n\u001b[1;32m     14\u001b[0m \u001b[38;5;28mprint\u001b[39m(names)\n",
      "Cell \u001b[0;32mIn[31], line 10\u001b[0m, in \u001b[0;36mchangeValue\u001b[0;34m(aList, name, index)\u001b[0m\n\u001b[1;32m      9\u001b[0m \u001b[38;5;28;01mdef\u001b[39;00m \u001b[38;5;21mchangeValue\u001b[39m(aList, name, index):\n\u001b[0;32m---> 10\u001b[0m     aList[index] \u001b[38;5;241m=\u001b[39m name\n",
      "\u001b[0;31mIndexError\u001b[0m: list assignment index out of range"
     ]
    }
   ],
   "source": [
    "# Changing passed in list\n",
    "\n",
    "names = [\"Bob\",\"Rich\",\"Amanda\"]\n",
    "print(names)\n",
    "\n",
    "index = int(input(\"What index do you want to change\"))\n",
    "name = str(input(\"What to change it to?\"))\n",
    "\n",
    "def changeValue(aList, name, index):\n",
    "    aList[index] = name\n",
    "\n",
    "changeValue(names,name,index)\n",
    "\n",
    "print(names)\n",
    "\n",
    "\n",
    "\n"
   ]
  },
  {
   "cell_type": "code",
   "execution_count": null,
   "metadata": {},
   "outputs": [],
   "source": [
    "# Write a program that asks a user for one word\n",
    "# Write a function that tells the user how many letters in the word\n",
    "# make sure that the function uses the return\n",
    "\n",
    "word = input(\"What word do you want to check?\")\n",
    "\n",
    "def wordcount():\n"
   ]
  }
 ],
 "metadata": {
  "kernelspec": {
   "display_name": "base",
   "language": "python",
   "name": "python3"
  },
  "language_info": {
   "codemirror_mode": {
    "name": "ipython",
    "version": 3
   },
   "file_extension": ".py",
   "mimetype": "text/x-python",
   "name": "python",
   "nbconvert_exporter": "python",
   "pygments_lexer": "ipython3",
   "version": "3.12.4"
  }
 },
 "nbformat": 4,
 "nbformat_minor": 2
}
