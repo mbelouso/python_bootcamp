{
 "cells": [
  {
   "cell_type": "markdown",
   "metadata": {},
   "source": [
    "# Data Collections and Files"
   ]
  },
  {
   "cell_type": "code",
   "execution_count": 2,
   "metadata": {},
   "outputs": [
    {
     "name": "stdout",
     "output_type": "stream",
     "text": [
      "False\n"
     ]
    }
   ],
   "source": [
    "# Challenge Question: Check if an inputted word is a palindrome\n",
    "\n",
    "word = input(str(\"Please input the word you want to check is a palindrome?\")).lower()\n",
    "\n",
    "\n",
    "\n",
    "\n",
    "def palindromeCheck(word):\n",
    "    reversed_word = word[::-1]\n",
    "    if reversed_word == word:\n",
    "        print(True)\n",
    "    else:\n",
    "        print(False)\n",
    "\n",
    "\n",
    "palindromeCheck(word)\n",
    "\n"
   ]
  },
  {
   "cell_type": "code",
   "execution_count": 3,
   "metadata": {},
   "outputs": [
    {
     "name": "stdout",
     "output_type": "stream",
     "text": [
      "{'name': 'Morty', 'age': 26}\n"
     ]
    }
   ],
   "source": [
    "# Declaring a dictionary varible\n",
    "empty = {} # empty dictionary\n",
    "person = {\"name\":\"John Smith\"}\n",
    "    # dictionary with one key/value pair\n",
    "customer = {\n",
    "    \"name\":\"Morty\",\n",
    "    \"age\":26\n",
    "}   # dictionary with two key/value pairs\n",
    "print(customer)"
   ]
  },
  {
   "cell_type": "code",
   "execution_count": 4,
   "metadata": {},
   "outputs": [
    {
     "name": "stdout",
     "output_type": "stream",
     "text": [
      "John\n"
     ]
    }
   ],
   "source": [
    "# accessing dictionary information through keys\n",
    "person = {\"name\": \"John\"}\n",
    "print(person[\"name\"]) #access information through the key"
   ]
  },
  {
   "cell_type": "code",
   "execution_count": 5,
   "metadata": {},
   "outputs": [
    {
     "name": "stdout",
     "output_type": "stream",
     "text": [
      "John\n",
      "Age is not available.\n"
     ]
    }
   ],
   "source": [
    "#using the get method to access dictionary information\n",
    "person = {\"name\":\"John\"}\n",
    "print(person.get(\"name\"))\n",
    "print(person.get(\"age\",\"Age is not available.\"))   #get is a secutre way to retrieve information"
   ]
  },
  {
   "cell_type": "code",
   "execution_count": 6,
   "metadata": {},
   "outputs": [
    {
     "name": "stdout",
     "output_type": "stream",
     "text": [
      "baseball\n"
     ]
    }
   ],
   "source": [
    "# storing a list within a dictionary and how to access it.\n",
    "data = {\"sports\":[\"baseball\",\"football\",\"hockey\",\"soccer\"]}\n",
    "print(data[\"sports\"][0])"
   ]
  },
  {
   "cell_type": "code",
   "execution_count": null,
   "metadata": {},
   "outputs": [
    {
     "ename": "ValueError",
     "evalue": "dictionary update sequence element #0 has length 8; 2 is required",
     "output_type": "error",
     "traceback": [
      "\u001b[0;31m---------------------------------------------------------------------------\u001b[0m",
      "\u001b[0;31mValueError\u001b[0m                                Traceback (most recent call last)",
      "Cell \u001b[0;32mIn[7], line 3\u001b[0m\n\u001b[1;32m      1\u001b[0m \u001b[38;5;66;03m# impropersly storing a list within a dictionary\u001b[39;00m\n\u001b[1;32m      2\u001b[0m sports \u001b[38;5;241m=\u001b[39m [\u001b[38;5;124m\"\u001b[39m\u001b[38;5;124mbaseball\u001b[39m\u001b[38;5;124m\"\u001b[39m,\u001b[38;5;124m\"\u001b[39m\u001b[38;5;124mfootball\u001b[39m\u001b[38;5;124m\"\u001b[39m,\u001b[38;5;124m\"\u001b[39m\u001b[38;5;124mhockey\u001b[39m\u001b[38;5;124m\"\u001b[39m,\u001b[38;5;124m\"\u001b[39m\u001b[38;5;124msoccer\u001b[39m\u001b[38;5;124m\"\u001b[39m]\n\u001b[0;32m----> 3\u001b[0m sports_dict \u001b[38;5;241m=\u001b[39m \u001b[38;5;28mdict\u001b[39m(sports)\n",
      "\u001b[0;31mValueError\u001b[0m: dictionary update sequence element #0 has length 8; 2 is required"
     ]
    }
   ],
   "source": [
    "# improperly storing a list within a dictionary\n",
    "sports = [\"baseball\",\"football\",\"hockey\",\"soccer\"]\n",
    "sports_dict = dict(sports)\n"
   ]
  },
  {
   "cell_type": "code",
   "execution_count": 8,
   "metadata": {},
   "outputs": [],
   "source": [
    "# properly storing a list within a dictionary\n",
    "sports = [\"baseball\",\"football\",\"hockey\",\"soccer\"]\n",
    "sports_dict = dict({\"sports\":sports})"
   ]
  },
  {
   "cell_type": "code",
   "execution_count": 11,
   "metadata": {},
   "outputs": [
    {
     "name": "stdout",
     "output_type": "stream",
     "text": [
      "{'name': 'Kirsten'}\n",
      "Kirsten\n"
     ]
    }
   ],
   "source": [
    "# storing a dictionary with a list and accessing it\n",
    "data = [\"John\",\"Dennis\",{\"name\":\"Kirsten\"}]\n",
    "print(data[2]) #the dictionary is in index 2\n",
    "print(data[2][\"name\"]) # first access the index, then access the key"
   ]
  },
  {
   "cell_type": "code",
   "execution_count": 22,
   "metadata": {},
   "outputs": [
    {
     "name": "stdout",
     "output_type": "stream",
     "text": [
      "{'2018': 108, '2017': 93}\n",
      "108\n"
     ]
    }
   ],
   "source": [
    "# storing a dictionary within a dictionary and accessing it\n",
    "\n",
    "data = {\n",
    "    \"team\": \"Boston Red Sox\",\n",
    "    \"wins\": { \"2018\":108, \"2017\":93 }\n",
    "}\n",
    "\n",
    "print(data[\"wins\"])\n",
    "print(data[\"wins\"][\"2018\"])"
   ]
  },
  {
   "cell_type": "markdown",
   "metadata": {},
   "source": [
    "# Excercises"
   ]
  },
  {
   "cell_type": "code",
   "execution_count": null,
   "metadata": {},
   "outputs": [
    {
     "name": "stdout",
     "output_type": "stream",
     "text": [
      "{'name': 'Matt', 'age': '42'}\n"
     ]
    }
   ],
   "source": [
    "name = input(\"What is your name?\")\n",
    "age = input(\"What is your age in years?\")\n",
    "\n",
    "data1 = {\"name\":name,\"age\":age}\n",
    "print(data1)"
   ]
  },
  {
   "cell_type": "code",
   "execution_count": null,
   "metadata": {},
   "outputs": [
    {
     "name": "stdout",
     "output_type": "stream",
     "text": [
      "cheese\n",
      "sausage\n",
      "peppers\n"
     ]
    }
   ],
   "source": [
    "# Accessing ingredients using a for loop\n",
    "\n",
    "pizza = {\n",
    "    'ingredients':['cheese','sausage','peppers']    \n",
    "}\n",
    "\n",
    "for i in pizza['ingredients']:\n",
    "    print(i)"
   ]
  },
  {
   "cell_type": "markdown",
   "metadata": {},
   "source": [
    "Dictionary adventures continues"
   ]
  },
  {
   "cell_type": "code",
   "execution_count": null,
   "metadata": {},
   "outputs": [
    {
     "name": "stdout",
     "output_type": "stream",
     "text": [
      "Year: 2018\t Color: Blue\n"
     ]
    }
   ],
   "source": [
    "# adding new key/value pairs to a dictionary\n",
    "\n",
    "car = {\"year\":2018}\n",
    "car[\"color\"] = \"Blue\" #adding a new key/value pair\n",
    "print(\"Year: {}\\t Color: {}\".format(car[\"year\"],car[\"color\"]))"
   ]
  },
  {
   "cell_type": "code",
   "execution_count": 2,
   "metadata": {},
   "outputs": [
    {
     "name": "stdout",
     "output_type": "stream",
     "text": [
      "Year: 2018\t Color: Red\n"
     ]
    }
   ],
   "source": [
    "# updating values in key/value pair\n",
    "\n",
    "car = {\"year\":2018, \"color\":\"Blue\"}\n",
    "car[\"color\"] = \"Red\"\n",
    "\n",
    "print(\"Year: {}\\t Color: {}\".format(car[\"year\"],car[\"color\"]))"
   ]
  },
  {
   "cell_type": "code",
   "execution_count": null,
   "metadata": {},
   "outputs": [
    {
     "name": "stdout",
     "output_type": "stream",
     "text": [
      "{}\n"
     ]
    }
   ],
   "source": [
    "# Deleting a key/value pair from a dictionary\n",
    "\n",
    "car = {\"year\": 2018}\n",
    "try:                            # Note, using the try/except as if you delete a key that doesn't exist, the program will crash!!!!\n",
    "        del car[\"year\"]\n",
    "        print(car)\n",
    "except:\n",
    "        print(\"That key does not exist\")"
   ]
  },
  {
   "cell_type": "code",
   "execution_count": 7,
   "metadata": {},
   "outputs": [
    {
     "name": "stdout",
     "output_type": "stream",
     "text": [
      "name\n",
      "John\n",
      "age\n",
      "26\n"
     ]
    }
   ],
   "source": [
    "# Loopin over a dictionary via keys\n",
    "\n",
    "person = {\"name\": \"John\",\"age\":26}\n",
    "\n",
    "for key in person.keys():\n",
    "    print(key)\n",
    "    print(person[key])\n",
    "    "
   ]
  },
  {
   "cell_type": "code",
   "execution_count": 8,
   "metadata": {},
   "outputs": [
    {
     "name": "stdout",
     "output_type": "stream",
     "text": [
      "John\n",
      "26\n"
     ]
    }
   ],
   "source": [
    "# looping over a dictionary via the values\n",
    "\n",
    "person = {\"name\": \"John\",\"age\":26}\n",
    "\n",
    "for value in person.values():\n",
    "    print(value)"
   ]
  },
  {
   "cell_type": "code",
   "execution_count": 9,
   "metadata": {},
   "outputs": [
    {
     "name": "stdout",
     "output_type": "stream",
     "text": [
      "name: John\n",
      "age: 26\n"
     ]
    }
   ],
   "source": [
    "# looping over a dictionary via the key/value pair\n",
    "\n",
    "person = {\"name\":\"John\", \"age\":26}\n",
    "for key, value in person.items():\n",
    "    print(\"{}: {}\".format(key,value))"
   ]
  },
  {
   "cell_type": "markdown",
   "metadata": {},
   "source": [
    "# Exercises"
   ]
  },
  {
   "cell_type": "code",
   "execution_count": 11,
   "metadata": {},
   "outputs": [
    {
     "name": "stdout",
     "output_type": "stream",
     "text": [
      "Name: Matt\n",
      "Address: Earth\n",
      "Number: 99002222\n"
     ]
    }
   ],
   "source": [
    "# Declare an empty dictionary\n",
    "data = {}\n",
    "\n",
    "# Ask user for the following deets:\n",
    "data[\"Name\"] = input(\"What is your name?\")\n",
    "data[\"Address\"] = input(\"What is your address?\")\n",
    "data[\"Number\"] = input(\"What is your phone number?\")\n",
    "\n",
    "for k, v in data.items():\n",
    "    print(\"{}: {}\".format(k,v))\n",
    "\n",
    "\n"
   ]
  },
  {
   "cell_type": "markdown",
   "metadata": {},
   "source": [
    "# Tuples, sets and frozen sets"
   ]
  },
  {
   "cell_type": "code",
   "execution_count": null,
   "metadata": {},
   "outputs": [
    {
     "name": "stdout",
     "output_type": "stream",
     "text": [
      "<class 'tuple'> <class 'tuple'>\n"
     ]
    },
    {
     "ename": "TypeError",
     "evalue": "'tuple' object does not support item assignment",
     "output_type": "error",
     "traceback": [
      "\u001b[0;31m---------------------------------------------------------------------------\u001b[0m",
      "\u001b[0;31mTypeError\u001b[0m                                 Traceback (most recent call last)",
      "Cell \u001b[0;32mIn[13], line 9\u001b[0m\n\u001b[1;32m      5\u001b[0m t2 \u001b[38;5;241m=\u001b[39m \u001b[38;5;28;01mTrue\u001b[39;00m, \u001b[38;5;241m1\u001b[39m\n\u001b[1;32m      7\u001b[0m \u001b[38;5;28mprint\u001b[39m(\u001b[38;5;28mtype\u001b[39m(t1),\u001b[38;5;28mtype\u001b[39m(t2))\n\u001b[0;32m----> 9\u001b[0m t1[\u001b[38;5;241m0\u001b[39m] \u001b[38;5;241m=\u001b[39m \u001b[38;5;241m1\u001b[39m\n",
      "\u001b[0;31mTypeError\u001b[0m: 'tuple' object does not support item assignment"
     ]
    }
   ],
   "source": [
    "# Tuples are like sets, but immutable\n",
    "# declaring a tuple\n",
    "\n",
    "t1 = (\"hello\",2,\"hello\") #with parenthesis\n",
    "t2 = True, 1    # without parenthesis\n",
    "\n",
    "print(type(t1),type(t2))\n",
    "\n",
    "t1[0] = 1       # will cause program error as tuples are immutable once declared\n"
   ]
  },
  {
   "cell_type": "code",
   "execution_count": null,
   "metadata": {},
   "outputs": [
    {
     "name": "stdout",
     "output_type": "stream",
     "text": [
      "<class 'set'> <class 'set'>\n",
      "{2, 3, 5}\n"
     ]
    }
   ],
   "source": [
    "# sets are 'like' a list and dictionary. They are an unordered collection\n",
    "\n",
    "# declaring a set\n",
    "\n",
    "s1 = set([1,2,3,1])    # uses the set keyword and square brackets\n",
    "s2 = {4,4,5}           # uses the curly bracket, kinda like a dictionary but without the ket/value\n",
    "print(type(s1),type(s2))\n",
    "\n",
    "s1.add(5)       # adding values to a set\n",
    "s1.remove(1)    # removing values from set\n",
    "print(s1)"
   ]
  },
  {
   "cell_type": "code",
   "execution_count": 17,
   "metadata": {},
   "outputs": [
    {
     "name": "stdout",
     "output_type": "stream",
     "text": [
      "<class 'frozenset'>\n",
      "frozenset({1, 2, 3, 4})\n"
     ]
    }
   ],
   "source": [
    "# frozen sets and how to declare them\n",
    "\n",
    "fset = frozenset([1,2,3,4])\n",
    "print(type(fset))\n",
    "\n",
    "\n",
    "print(fset)"
   ]
  },
  {
   "cell_type": "markdown",
   "metadata": {},
   "source": [
    "# exercises"
   ]
  },
  {
   "cell_type": "code",
   "execution_count": 20,
   "metadata": {},
   "outputs": [
    {
     "name": "stdout",
     "output_type": "stream",
     "text": [
      "Bank account numbers are: frozenset({'33333', '1111', '2222', '5838723489734'})\n"
     ]
    }
   ],
   "source": [
    "# bank accounts\n",
    "\n",
    "account_num = []\n",
    "\n",
    "while True:\n",
    "    account = input(\"Enter your bank account numbers, enter as many as you would like, when finished: type done\")\n",
    "    if account.lower() == \"done\":\n",
    "        break\n",
    "    account_num.append(account)\n",
    "\n",
    "account_num_fset = frozenset(account_num)\n",
    "\n",
    "print(\"Bank account numbers are:\", account_num_fset)"
   ]
  },
  {
   "cell_type": "code",
   "execution_count": 21,
   "metadata": {},
   "outputs": [
    {
     "name": "stdout",
     "output_type": "stream",
     "text": [
      "{10, 3, 4, 7}\n"
     ]
    }
   ],
   "source": [
    "# converting lists into unique values\n",
    "\n",
    "nums = [3,4,3,7,10]\n",
    "\n",
    "nums_set = set(nums)\n",
    "\n",
    "print(nums_set)"
   ]
  },
  {
   "cell_type": "markdown",
   "metadata": {},
   "source": [
    "# Working with files"
   ]
  },
  {
   "cell_type": "code",
   "execution_count": null,
   "metadata": {},
   "outputs": [
    {
     "name": "stdout",
     "output_type": "stream",
     "text": [
      "this is a test\n"
     ]
    }
   ],
   "source": [
    "# opening/creating and writing to a text file\n",
    "\n",
    "f = open(\"test.txt\",\"w+\")   # open a file in w/r mode\n",
    "f.write(\"this is a test\")   # note it outputs the file test.txt into the directory that the notebook in.\n",
    "f.close()\n",
    "\n",
    "# read a text file\n",
    "f = open(\"test.txt\",\"r\")\n",
    "data = f.read()\n",
    "f.close()\n",
    "print(data)"
   ]
  },
  {
   "cell_type": "code",
   "execution_count": null,
   "metadata": {},
   "outputs": [],
   "source": [
    "# opening/creating and writing to a csv file\n",
    "import csv\n",
    "\n",
    "with open(\"test.csv\",mode=\"w\",newline=\"\") as f:     # with is similar concept to while loop, it open and keeps file open until loop is done and then it closes it.\n",
    "    writer = csv.writer(f,delimiter=\",\")    # writer variable is used to allow writing to csv file\n",
    "    writer.writerow([\"Name\",\"City\"])\n",
    "    writer.writerow([\"Craig Lou\",\"Taiwan\"])"
   ]
  },
  {
   "cell_type": "code",
   "execution_count": 6,
   "metadata": {},
   "outputs": [
    {
     "name": "stdout",
     "output_type": "stream",
     "text": [
      "['Name', 'City']\n",
      "['Craig Lou', 'Taiwan']\n"
     ]
    }
   ],
   "source": [
    "# reading from csv files\n",
    "with open(\"test.csv\",mode=\"r\") as f:\n",
    "    reader = csv.reader(f ,delimiter=\",\")\n",
    "    for row in reader:\n",
    "        print(row)"
   ]
  },
  {
   "cell_type": "markdown",
   "metadata": {},
   "source": [
    "# exercises"
   ]
  },
  {
   "cell_type": "code",
   "execution_count": 9,
   "metadata": {},
   "outputs": [
    {
     "name": "stdout",
     "output_type": "stream",
     "text": [
      "Your number: 2 was saved in number.txt\n"
     ]
    }
   ],
   "source": [
    "# favorite number!\n",
    "\n",
    "number = input(\"What is your favorite integer? Once entered I will save it to number.txt\")\n",
    "\n",
    "\n",
    "f = open(\"number.txt\",\"w+\")\n",
    "f.write(number)   \n",
    "f.close()\n",
    "\n",
    "print(\"Your number: {} was saved in number.txt\".format(number))\n"
   ]
  },
  {
   "cell_type": "code",
   "execution_count": 9,
   "metadata": {},
   "outputs": [],
   "source": [
    "# data dumping to csv from a dictionary\n",
    "\n",
    "import csv\n",
    "\n",
    "data = {\n",
    "    'name' : ['Dave','Denis','Peter','Jess'],\n",
    "    'language' : ['Python','C','Java','Python']\n",
    "}\n",
    "\n",
    "\n",
    "with open(\"data.csv\",mode=\"w\",newline=\"\") as f:\n",
    "    writer = csv.writer(f)\n",
    "    writer.writerow(data.keys())\n",
    "   \n",
    "    #for value in data.values():\n",
    "    #    writer.writerow(value)         # This doesn't work, as it prints all values in single row\n",
    "    num_rows = len(next(iter(data.values())))\n",
    "    for i in range(num_rows):\n",
    "        row = [data[key][i] for key in data]\n",
    "        writer.writerow(row)\n",
    "\n",
    "\n",
    "\n"
   ]
  },
  {
   "cell_type": "code",
   "execution_count": null,
   "metadata": {},
   "outputs": [],
   "source": [
    "# data dumping to csv from a dictionary\n",
    "\n",
    "import csv\n",
    "\n",
    "data = {\n",
    "    'name' : ['Dave','Denis','Peter','Jess'],\n",
    "    'language' : ['Python','C','Java','Python']\n",
    "}\n",
    "\n",
    "# Chat GPT said like this using zip()\n",
    "\n",
    "# Specify the file name\n",
    "filename = 'data.csv'\n",
    "\n",
    "# Write data to CSV file\n",
    "with open(filename, mode='w', newline='') as file:\n",
    "    writer = csv.DictWriter(file, fieldnames=data.keys())\n",
    "    writer.writeheader()\n",
    "    \n",
    "    # Use zip to iterate over rows and write each row to the file\n",
    "    for row in zip(*data.values()):\n",
    "        writer.writerow(dict(zip(data.keys(), row)))\n",
    "\n",
    "print(f\"Data has been written to {filename}\")\n"
   ]
  }
 ],
 "metadata": {
  "kernelspec": {
   "display_name": "base",
   "language": "python",
   "name": "python3"
  },
  "language_info": {
   "codemirror_mode": {
    "name": "ipython",
    "version": 3
   },
   "file_extension": ".py",
   "mimetype": "text/x-python",
   "name": "python",
   "nbconvert_exporter": "python",
   "pygments_lexer": "ipython3",
   "version": "3.12.4"
  }
 },
 "nbformat": 4,
 "nbformat_minor": 2
}
