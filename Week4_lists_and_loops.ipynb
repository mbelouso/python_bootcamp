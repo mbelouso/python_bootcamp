{
 "cells": [
  {
   "cell_type": "markdown",
   "id": "98bb2f55",
   "metadata": {},
   "source": [
    "## List and Loops"
   ]
  },
  {
   "cell_type": "code",
   "execution_count": null,
   "id": "fb1694d9",
   "metadata": {},
   "outputs": [],
   "source": [
    "# declaring a list of numbers\n",
    "nums = [5,10,15.2,20]\n",
    "print(nums)"
   ]
  },
  {
   "cell_type": "code",
   "execution_count": null,
   "id": "a9a90138",
   "metadata": {},
   "outputs": [],
   "source": [
    "# accessing elements within a list\n",
    "print (nums[1])\n",
    "num = nums[2]\n",
    "print(num)"
   ]
  },
  {
   "cell_type": "code",
   "execution_count": null,
   "id": "d13148e9",
   "metadata": {},
   "outputs": [],
   "source": [
    "# declaring a list of mixed data types\n",
    "num = 4.3\n",
    "data = [num,\"word\",True]\n",
    "print(data)"
   ]
  },
  {
   "cell_type": "code",
   "execution_count": null,
   "id": "9c42ff75",
   "metadata": {},
   "outputs": [],
   "source": [
    "# understanding lists within lists\n",
    "data = [5,\"book\",[34,\"hello\"],True]\n",
    "print (data)\n",
    "print(data[2])"
   ]
  },
  {
   "cell_type": "code",
   "execution_count": null,
   "id": "b0d28ed3",
   "metadata": {},
   "outputs": [],
   "source": [
    "# using double bracked notation to access lists within lists\n",
    "print(data[2][0])\n",
    "inner_list=data[2]\n",
    "print(inner_list[1])"
   ]
  },
  {
   "cell_type": "code",
   "execution_count": null,
   "id": "7dbb6209",
   "metadata": {},
   "outputs": [],
   "source": [
    "# changing values in a list through index\n",
    "data=[5,10,15,20]\n",
    "print(data)\n",
    "data[0]=100\n",
    "print(data)\n"
   ]
  },
  {
   "cell_type": "code",
   "execution_count": null,
   "id": "1882179a",
   "metadata": {},
   "outputs": [],
   "source": [
    "# understanding how lists are stored\n",
    "a = [5,10]\n",
    "b=a\n",
    "print(\"a:{}\\t b: {}\".format(a,b))\n",
    "print(\"Location a[0]: {}\\t Location b[0]: {}\".format(id(a[0]),id(b[0])))\n",
    "if id(a[0])==id(b[0]):\n",
    "    print(\"Memory allocation is the same\")\n",
    "else:\n",
    "    print(\"Memory allocation is different\")\n",
    "a[0]=20\n",
    "print(\"a: {}\\t b: {}\".format(a,b))"
   ]
  },
  {
   "cell_type": "code",
   "execution_count": null,
   "id": "64ed3723",
   "metadata": {},
   "outputs": [],
   "source": [
    "# using [:] to copy a list\n",
    "data=[5,10,15,20]\n",
    "data_copy=data[:]\n",
    "data[0]=50\n",
    "print(\"data: {}\\t data_copy: {}\".format(data,data_copy))\n"
   ]
  },
  {
   "cell_type": "markdown",
   "id": "17543ca5",
   "metadata": {},
   "source": [
    "# Exercises"
   ]
  },
  {
   "cell_type": "code",
   "execution_count": null,
   "id": "263d7a77",
   "metadata": {},
   "outputs": [],
   "source": [
    "# List of sports\n",
    "sports=[\"Soccer\",\"Tennis\",\"Baskeball\",\"Baseball\"]\n",
    "print(\"I like to play {}\".format(sports[0]))\n",
    "print(\"I like to play {}\".format(sports[1]))\n",
    "print(\"I like to play {}\".format(sports[2]))\n",
    "print(\"I like to play {}\".format(sports[3]))"
   ]
  },
  {
   "cell_type": "code",
   "execution_count": null,
   "id": "81f8ef5e",
   "metadata": {},
   "outputs": [],
   "source": [
    "# print certain characters in a list\n",
    "names=['John','Abraham','Sam','Kelly']\n",
    "name1=names[0]\n",
    "print('{}'.format(name1[0]))\n",
    "print('{}'.format(names[0][0]))\n",
    "print(\"'{}','{}','{}','{}'\".format(names[0][0],names[1][0],names[2][0],names[3][0]))"
   ]
  },
  {
   "cell_type": "markdown",
   "id": "4d32474c",
   "metadata": {},
   "source": [
    "# For Loops"
   ]
  },
  {
   "cell_type": "code",
   "execution_count": null,
   "id": "07033a15",
   "metadata": {},
   "outputs": [],
   "source": [
    "# writing your first for loop using range\n",
    "for num in range(5):\n",
    "    print(\"Value {}\".format(num))"
   ]
  },
  {
   "cell_type": "code",
   "execution_count": null,
   "id": "be12c8b7",
   "metadata": {},
   "outputs": [],
   "source": [
    "# providing the start, stop, and step for the range function\n",
    "for num in range(2,10,2):\n",
    "    print(\"Value: {}\".format(num))"
   ]
  },
  {
   "cell_type": "code",
   "execution_count": null,
   "id": "649bc24b",
   "metadata": {},
   "outputs": [],
   "source": [
    "# printing all the characters in aa name using the 'in' keyword\n",
    "name = \"John Smith\"\n",
    "for letter in name: # note here that the temp variable can be called anything 'letter' isn't imporant\n",
    "    print(\"Value: {}\".format(letter))\n"
   ]
  },
  {
   "cell_type": "code",
   "execution_count": null,
   "id": "0ebc2a9b",
   "metadata": {},
   "outputs": [],
   "source": [
    "# using the continue satement within a for loop\n",
    "for num in range(5):\n",
    "    if num == 3:\n",
    "        continue #This will skip 3\n",
    "    print(num)"
   ]
  },
  {
   "cell_type": "code",
   "execution_count": null,
   "id": "b96c2a57",
   "metadata": {},
   "outputs": [],
   "source": [
    "# breaking out of a loop using the 'break' keyword\n",
    "for num in range(5):\n",
    "    if num == 3:\n",
    "        break\n",
    "    print(num)"
   ]
  },
  {
   "cell_type": "code",
   "execution_count": 14,
   "id": "33eb6e0c",
   "metadata": {},
   "outputs": [],
   "source": [
    "# setting a placeholder using the 'pass' keyword\n",
    "for i in range(5):\n",
    "    # TODO: add code to print number\n",
    "    pass\n"
   ]
  },
  {
   "cell_type": "markdown",
   "id": "116c93f9",
   "metadata": {},
   "source": [
    "# Excercises"
   ]
  },
  {
   "cell_type": "code",
   "execution_count": null,
   "id": "1e439f4a",
   "metadata": {},
   "outputs": [],
   "source": [
    "# Print only numbers divisible by three\n",
    "for i in range(0,100,3):\n",
    "    if i==0:\n",
    "        continue\n",
    "    print(i)\n",
    "    "
   ]
  },
  {
   "cell_type": "code",
   "execution_count": null,
   "id": "20de2122",
   "metadata": {},
   "outputs": [],
   "source": [
    "# Outputing vowels\n",
    "word = input(\"What is the word you only want to know the vowels: \")\n",
    "word = word.lower()\n",
    "\n",
    "for letter in word:\n",
    "    if letter == 'a' or letter == 'e' or letter == 'i' or letter == 'o' or letter == 'u':\n",
    "        print(\"Vowels are: {}\".format(letter))\n"
   ]
  },
  {
   "cell_type": "markdown",
   "id": "6c07f63b",
   "metadata": {},
   "source": [
    "# while loops"
   ]
  },
  {
   "cell_type": "code",
   "execution_count": null,
   "id": "f02453ab",
   "metadata": {},
   "outputs": [],
   "source": [
    "# writing your first while loop\n",
    "health = 10\n",
    "while health > 0:\n",
    "    print(health)\n",
    "    health -= 1"
   ]
  },
  {
   "cell_type": "code",
   "execution_count": null,
   "id": "a3b9beb7",
   "metadata": {},
   "outputs": [],
   "source": [
    "# using two or more loops together is called a nested loop\n",
    "for i in range(2):\n",
    "    for j in range(3):\n",
    "        print(i,j)"
   ]
  },
  {
   "cell_type": "markdown",
   "id": "e90e32ab",
   "metadata": {},
   "source": [
    "# Exercises"
   ]
  },
  {
   "cell_type": "code",
   "execution_count": 20,
   "id": "2253b4ad",
   "metadata": {},
   "outputs": [],
   "source": [
    "# quit while loop\n",
    "word=input(\"What do you want to do: \")\n",
    "while word != \"quit\":\n",
    "    word=input(\"What do you want to do: \")\n"
   ]
  },
  {
   "cell_type": "code",
   "execution_count": null,
   "id": "08be06c5",
   "metadata": {},
   "outputs": [],
   "source": [
    "# double loop\n",
    "game_over=False\n",
    "while game_over == False:\n",
    "    for i in range(5):\n",
    "        print(i)\n",
    "        if i == 2:\n",
    "            game_over=True\n",
    "            break\n",
    "\n",
    "print(\"finished\")"
   ]
  },
  {
   "cell_type": "markdown",
   "id": "6b974dd2",
   "metadata": {},
   "source": [
    "# working with lists"
   ]
  },
  {
   "cell_type": "code",
   "execution_count": null,
   "id": "3867e19e",
   "metadata": {},
   "outputs": [],
   "source": [
    "# checking the number of items within a list\n",
    "nums = [5,10,15]\n",
    "length=len(nums)\n",
    "print(length)"
   ]
  },
  {
   "cell_type": "code",
   "execution_count": null,
   "id": "251d9060",
   "metadata": {},
   "outputs": [],
   "source": [
    "# accessing specific item of a list with slices\n",
    "print(nums[1:3]) # will out put items in index 1 and 2\n",
    "print(nums[:2]) # will output items in index 0 and 1\n",
    "print(nums[::2]) # will output items every other index -0 ,2,4,etc\n",
    "print(nums[-2:]) # will output the last two items in list"
   ]
  },
  {
   "cell_type": "code",
   "execution_count": null,
   "id": "0dbd75fb",
   "metadata": {},
   "outputs": [],
   "source": [
    "# adding an item to the back of a list using append\n",
    "nums = [10,20]\n",
    "nums.append(5)\n",
    "print(nums)"
   ]
  },
  {
   "cell_type": "code",
   "execution_count": null,
   "id": "015d399b",
   "metadata": {},
   "outputs": [],
   "source": [
    "# adding a value to the begining of the list\n",
    "words = [\"ball\",\"base\"]\n",
    "words.insert(0,\"glove\")\n",
    "print(nums)\n",
    "print(words)"
   ]
  },
  {
   "cell_type": "code",
   "execution_count": null,
   "id": "daeec0a6",
   "metadata": {},
   "outputs": [],
   "source": [
    "# using pop to remove items and saving to a variable to use later\n",
    "items = [5,\"ball\",True]\n",
    "items.pop()\n",
    "removed_item=items.pop(0)\n",
    "print(removed_item, \"\\n\",items)"
   ]
  },
  {
   "cell_type": "code",
   "execution_count": null,
   "id": "2b00b927",
   "metadata": {},
   "outputs": [],
   "source": [
    "# using the remove method with a try and except\n",
    "sports = [\"baseball\",\"soccer\",\"football\",\"hockey\"]\n",
    "try:\n",
    "    sports.remove(\"soccer\")\n",
    "except:\n",
    "    print(\"That item does not exist in the list\")\n",
    "print(sports)"
   ]
  },
  {
   "cell_type": "code",
   "execution_count": null,
   "id": "78491df0",
   "metadata": {},
   "outputs": [],
   "source": [
    "# using min,max and sum\n",
    "nums=[5,3,9]\n",
    "print(min(nums))\n",
    "print(max(nums))\n",
    "print(sum(nums))"
   ]
  },
  {
   "cell_type": "code",
   "execution_count": null,
   "id": "459ea95f",
   "metadata": {},
   "outputs": [],
   "source": [
    "# using sorted on lists for numerical and alphabetical data\n",
    "# note sorted() doesn't rewrite the list\n",
    "nums=[5,8,0,2]\n",
    "sorted_nums=sorted(nums)\n",
    "print(nums, sorted_nums)"
   ]
  },
  {
   "cell_type": "code",
   "execution_count": null,
   "id": "6a49703d",
   "metadata": {},
   "outputs": [],
   "source": [
    "# sorting a list with the .sort() in-place\n",
    "nums=[5,0,8,3]\n",
    "nums.sort()\n",
    "print(nums)"
   ]
  },
  {
   "cell_type": "code",
   "execution_count": null,
   "id": "0307e339",
   "metadata": {},
   "outputs": [],
   "source": [
    "# using conditional statement son a list\n",
    "names = [\"Jack\",\"Robert\",\"Mary\"]\n",
    "\n",
    "if \"Mary\" in names:\n",
    "    print(\"found\")\n",
    "if \"Jimmy\" not in names:\n",
    "    print(\"not found\")"
   ]
  },
  {
   "cell_type": "code",
   "execution_count": null,
   "id": "604a33aa",
   "metadata": {},
   "outputs": [],
   "source": [
    "# using conditionals to see if a list is empty\n",
    "nums = []\n",
    "if not nums:\n",
    "    print(\"empty\")\n",
    "if nums ==[]:\n",
    "    print(\"also empty\")\n"
   ]
  },
  {
   "cell_type": "code",
   "execution_count": null,
   "id": "128eedf6",
   "metadata": {},
   "outputs": [],
   "source": [
    "# using a for loop to print all items in a list\n",
    "sports = [\"Baseball\",\"Hockey\",\"Football\",\"Basketball\"]\n",
    "for sport in sports:\n",
    "    print(sport)"
   ]
  },
  {
   "cell_type": "code",
   "execution_count": null,
   "id": "d6e1b6c7",
   "metadata": {},
   "outputs": [],
   "source": [
    "# using the while loop to remove a certain value\n",
    "names = [\"Bob\",\"Jack\",\"Rob\",\"Bob\",\"Robert\"]\n",
    "while \"Bob\" in names:\n",
    "    names.remove(\"Bob\")\n",
    "print(names)"
   ]
  },
  {
   "cell_type": "markdown",
   "id": "c511990b",
   "metadata": {},
   "source": [
    "# Exercises"
   ]
  },
  {
   "cell_type": "code",
   "execution_count": null,
   "id": "a4be3459",
   "metadata": {},
   "outputs": [],
   "source": [
    "# Removing duplicates\n",
    "names=[\"Bob\",\"Kenny\",\"Amanda\",\"Bob\",\"Kenny\"]\n",
    "print(\"List before duplication removal is: {}\".format(names))\n",
    "for position in names:\n",
    "    count=names.count(position)\n",
    "    if count>=2: \n",
    "        names.remove(position)\n",
    "    \n",
    "print(\"List AFTER duplication removal is: {}\".format(names))"
   ]
  },
  {
   "cell_type": "code",
   "execution_count": null,
   "id": "8c1202a5",
   "metadata": {},
   "outputs": [],
   "source": [
    "# Creating a list from user input:\n",
    "words=[]\n",
    "print(\"Every input you type in will add to a list, to quit type 'quit'\")\n",
    "i=input(\"What is the first word you want to add: \")\n",
    "words.append(i)\n",
    "while i != \"quit\":\n",
    "    i=input(\"What next word do you want to add: \")\n",
    "    words.append(i)\n",
    "\n",
    "words.remove(\"quit\")    \n",
    "print(\"Your list is: {}\".format(words))"
   ]
  },
  {
   "cell_type": "code",
   "execution_count": null,
   "id": "68be426c",
   "metadata": {},
   "outputs": [],
   "source": [
    "# import additional functions\n",
    "from random import choice\n",
    "from IPython.display import clear_output\n",
    "\n",
    "# Declare game variables\n",
    "words = [\"tree\",\"basket\",\"chair\",\"paper\",\"python\"]\n",
    "word = choice(words)      # Randomly chooses a word from the words list\n",
    "guessed, lives, game_over = [],7,False     # multivariable assigment\n",
    "\n",
    "# create a list of underscores to the lengh of the word\n",
    "guesses = [ \"_ \" ] * len(word)\n",
    "\n",
    "# create main gain loop\n",
    "while not game_over:\n",
    "    # output game information\n",
    "    hidden_word = \"\".join(guesses)\n",
    "    print(\"You guessed letters: {}\".format(guessed))\n",
    "    print(\"Word to guess {}\".format(hidden_word))\n",
    "    print(\"Lives: {}\".format(lives))\n",
    "    ans = input(\"Type quit or guess a letter: \").lower()\n",
    "    clear_output()      # Clears output in Jupyter\n",
    "    if ans == \"quit\":\n",
    "        print(\"Thanks for Playing.\")\n",
    "        game_over=True\n",
    "    elif ans in word and ans not in guessed:\n",
    "                print(\"You Guessed Correctly!\")\n",
    "                for i in range(len(word)):\n",
    "                    if word[i]==ans:\n",
    "                        guesses[i] = ans\n",
    "    elif ans in guessed:\n",
    "        print(\"You already guessed that. Try again.\")\n",
    "    else:\n",
    "            lives -= 1\n",
    "            print(\"Incorrect, you lost a life.\")\n",
    "    if ans not in guessed:\n",
    "        guessed.append(ans)\n",
    "    if lives <= 0:\n",
    "        print(\"You lost all your lives, you lost!\")\n",
    "        game_over=True\n",
    "    \n",
    "    elif word == \"\".join(guesses):\n",
    "        print(\"Congrations, you guessed it correctly!\")\n",
    "        game_over=True\n",
    "            "
   ]
  },
  {
   "cell_type": "code",
   "execution_count": null,
   "id": "dda8dc42",
   "metadata": {},
   "outputs": [],
   "source": []
  }
 ],
 "metadata": {
  "kernelspec": {
   "display_name": "Python 3 (ipykernel)",
   "language": "python",
   "name": "python3"
  },
  "language_info": {
   "codemirror_mode": {
    "name": "ipython",
    "version": 3
   },
   "file_extension": ".py",
   "mimetype": "text/x-python",
   "name": "python",
   "nbconvert_exporter": "python",
   "pygments_lexer": "ipython3",
   "version": "3.12.4"
  }
 },
 "nbformat": 4,
 "nbformat_minor": 5
}
