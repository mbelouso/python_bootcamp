{
 "cells": [
  {
   "cell_type": "markdown",
   "id": "7063ecfb",
   "metadata": {},
   "source": [
    "# Python Basics\n",
    "Data types and print outputs"
   ]
  },
  {
   "cell_type": "code",
   "execution_count": 1,
   "id": "3d179c64-5d88-4703-a347-5bed965dd832",
   "metadata": {},
   "outputs": [
    {
     "name": "stdout",
     "output_type": "stream",
     "text": [
      "Hello\n"
     ]
    }
   ],
   "source": [
    "#Python Basics\n",
    "\n",
    "# Comments look like this\n",
    "\n",
    "print (\"Hello\") # Comments can also go after commands"
   ]
  },
  {
   "cell_type": "code",
   "execution_count": 2,
   "id": "11ed64b6-827b-4106-940a-4ad82869dfd0",
   "metadata": {},
   "outputs": [
    {
     "name": "stdout",
     "output_type": "stream",
     "text": [
      "2\n",
      "10\n",
      "10.11\n",
      "8.0\n",
      "True\n",
      "False\n",
      "\n",
      "There's a snake in my boot\n",
      "True\n"
     ]
    }
   ],
   "source": [
    "# Data types\n",
    "\n",
    "# Integers\n",
    "print(2)\n",
    "print(10)\n",
    "\n",
    "#Floats, or 'real' numbers\n",
    "print(10.11)\n",
    "print(8.0)\n",
    "\n",
    "#Booleans (true/false)\n",
    "\n",
    "print(True)\n",
    "print(False)\n",
    "\n",
    "#Strings\n",
    "\n",
    "print(\"\")\n",
    "print(\"There's a snake in my boot\")\n",
    "print('True')\n"
   ]
  },
  {
   "cell_type": "code",
   "execution_count": 3,
   "id": "93be1f0d",
   "metadata": {},
   "outputs": [
    {
     "name": "stdout",
     "output_type": "stream",
     "text": [
      "matt\n",
      "<class 'str'>\n",
      "Theo\n",
      "<class 'str'>\n"
     ]
    }
   ],
   "source": [
    "var1 = 'matt'\n",
    "var2 = \"Theo\"\n",
    "\n",
    "print(var1)\n",
    "var3 = type(var1)\n",
    "print(var3)\n",
    "\n",
    "print(var2)\n",
    "var4 = type(var2)\n",
    "print(var4)"
   ]
  },
  {
   "cell_type": "code",
   "execution_count": 3,
   "id": "75633927-5e9a-4fae-82e9-6e6b810c023f",
   "metadata": {},
   "outputs": [
    {
     "name": "stdout",
     "output_type": "stream",
     "text": [
      "5 8.4\n",
      "True\n",
      "Matt Belousoff 2\n"
     ]
    }
   ],
   "source": [
    "# Variables, defined in Python by the = operator\n",
    "\n",
    "first_name = \"Matt\"\n",
    "\n",
    "# variables can be all datatypes\n",
    "num1 = 5\n",
    "num2 = 8.4\n",
    "print(num1, num2)\n",
    "\n",
    "#Booleans can be stored into a variable\n",
    "switch = True\n",
    "print(switch)\n",
    "\n",
    "# can check what datatype in a variable with type()\n",
    "type(switch)\n",
    "\n",
    "# can store strings in variables\n",
    "name = 'Matt Belousoff'\n",
    "fav_number = '2'\n",
    "print(name, fav_number)"
   ]
  },
  {
   "cell_type": "code",
   "execution_count": 4,
   "id": "dcbf74c9-b158-49f7-8856-23c0db9063c5",
   "metadata": {},
   "outputs": [
    {
     "name": "stdout",
     "output_type": "stream",
     "text": [
      "13.4\n"
     ]
    }
   ],
   "source": [
    "# can do operations on variables to create new variable\n",
    "result = num1 + num2\n",
    "print(result)"
   ]
  },
  {
   "cell_type": "code",
   "execution_count": 5,
   "id": "e538f365-aa1a-4451-af17-69e58590a22f",
   "metadata": {},
   "outputs": [
    {
     "name": "stdout",
     "output_type": "stream",
     "text": [
      "14.4\n",
      "72.0\n"
     ]
    }
   ],
   "source": [
    "#operations on variables\n",
    "result += 1 # same as saying result = result + 1\n",
    "print(result)\n",
    "result *= num1\n",
    "print(result)"
   ]
  },
  {
   "cell_type": "code",
   "execution_count": 6,
   "id": "d28b51a1-7291-4200-ae32-ba641f27fb7f",
   "metadata": {},
   "outputs": [
    {
     "name": "stdout",
     "output_type": "stream",
     "text": [
      "Matt\n",
      "Sam\n"
     ]
    }
   ],
   "source": [
    "# variables can be overwritten\n",
    "name = 'Matt'\n",
    "print(name)\n",
    "name = 'Sam'\n",
    "print(name)"
   ]
  },
  {
   "cell_type": "markdown",
   "id": "4be4c2b7",
   "metadata": {},
   "source": [
    "Exercises"
   ]
  },
  {
   "cell_type": "code",
   "execution_count": 7,
   "id": "c6377ace-37cb-4788-b701-4b510ec95cfa",
   "metadata": {},
   "outputs": [
    {
     "name": "stdout",
     "output_type": "stream",
     "text": [
      "Calculation was:\n",
      "3  +  10  =  13\n",
      "Area of the rectangle is: 3477.0164\n"
     ]
    }
   ],
   "source": [
    "## Exercises\n",
    "\n",
    "x = 3\n",
    "y = 10\n",
    "result = x + y\n",
    "print(\"Calculation was:\")\n",
    "print(x,\" + \",y,\" = \",result)\n",
    "\n",
    "# Area calculation\n",
    "base = 254.54\n",
    "height = 13.66\n",
    "area = base * height\n",
    "print(\"Area of the rectangle is:\",area)"
   ]
  },
  {
   "cell_type": "code",
   "execution_count": 8,
   "id": "24f46a96-d234-48c7-9f88-53d0ec8cf708",
   "metadata": {},
   "outputs": [
    {
     "name": "stdout",
     "output_type": "stream",
     "text": [
      "John Smith\n",
      "John Smith\n"
     ]
    }
   ],
   "source": [
    "# String concatenation (adding one string to another)\n",
    "name = \"John\" + \" \" + \"Smith\"\n",
    "print(name)\n",
    "\n",
    "# addition operator with strings\n",
    "first_name = \"John\"\n",
    "last_name = \"Smith\"\n",
    "full_name = first_name + \" \" + last_name\n",
    "print(full_name)"
   ]
  },
  {
   "cell_type": "code",
   "execution_count": 9,
   "id": "bf6f8d4b-0dfc-4844-9898-e33b27cd29a0",
   "metadata": {},
   "outputs": [
    {
     "name": "stdout",
     "output_type": "stream",
     "text": [
      "Hello John\n",
      "Hello John, you are 28 years old!\n"
     ]
    }
   ],
   "source": [
    "# String formatting\n",
    "# injecting a new variable using format method\n",
    "name = \"John\"\n",
    "print( \"Hello {}\".format(name) )\n",
    "print( \"Hello {}, you are {} years old!\".format(name, 28) )\n"
   ]
  },
  {
   "cell_type": "code",
   "execution_count": 10,
   "id": "f57076db-792a-4ca3-99b3-0c80b37cf0d1",
   "metadata": {},
   "outputs": [
    {
     "name": "stdout",
     "output_type": "stream",
     "text": [
      "Hello Matt\n"
     ]
    }
   ],
   "source": [
    "# Can also be done like this with fstrings\n",
    "name = \"Matt\"\n",
    "print( f\"Hello {name}\")"
   ]
  },
  {
   "cell_type": "code",
   "execution_count": 11,
   "id": "7e42be9d-4f50-45b0-a860-b413d2a729d0",
   "metadata": {},
   "outputs": [
    {
     "name": "stdout",
     "output_type": "stream",
     "text": [
      "H\n",
      "e\n",
      "o\n",
      "He\n",
      "Hlo\n"
     ]
    }
   ],
   "source": [
    "# String indexing\n",
    "# using indexes to print each element\n",
    "word = \"Hello\"\n",
    "print(word[0])\n",
    "print(word[1])\n",
    "print(word[-1])\n",
    "\n",
    "# Can also slice\n",
    "print( word[0:2])\n",
    "\n",
    "#works like variable_name[start:stop:step]\n",
    "print( word[0:5:2])"
   ]
  },
  {
   "cell_type": "markdown",
   "id": "fd0527b4",
   "metadata": {},
   "source": [
    "Exercises"
   ]
  },
  {
   "cell_type": "code",
   "execution_count": 12,
   "id": "2a4d4b4b-0f04-4cec-9b52-ac7a592dba57",
   "metadata": {},
   "outputs": [
    {
     "name": "stdout",
     "output_type": "stream",
     "text": [
      "23 4.5 False John\n",
      "Matt's favorite sport is Brazillian Jiu Jitsu.\n",
      "Matt is working on Python programming!\n"
     ]
    }
   ],
   "source": [
    "# Exercises\n",
    "# exercise 1\n",
    "a = 23\n",
    "b = 4.5\n",
    "truth = False\n",
    "name = \"John\"\n",
    "print( f\"{a} {b} {truth} {name}\")\n",
    "\n",
    "# exercise 2\n",
    "name1 = \"Matt\"\n",
    "sport = \"Brazillian Jiu Jitsu\"\n",
    "programming = \"Python\"\n",
    "print( \"{}'s favorite sport is {}.\".format(name1,sport))\n",
    "print( \"{} is working on {} programming!\".format(name1,programming))\n"
   ]
  },
  {
   "cell_type": "code",
   "execution_count": 13,
   "id": "6eacd821-ea4b-4e7f-95ed-9b1d31e619e1",
   "metadata": {},
   "outputs": [
    {
     "name": "stdout",
     "output_type": "stream",
     "text": [
      "Matt Belousoff\n",
      "matt belousoff\n",
      "MATT BELOUSOFF\n"
     ]
    }
   ],
   "source": [
    "# String manipulation\n",
    "\n",
    "# using the title method to capitalize a string\n",
    "name = \"matt belousoff\"\n",
    "print(name.title())\n",
    "\n",
    "# other things\n",
    "print(name.lower())\n",
    "print(name.upper())\n"
   ]
  },
  {
   "cell_type": "code",
   "execution_count": 14,
   "id": "3d95239b-f9ba-4d44-b69a-b045fb7b8d22",
   "metadata": {},
   "outputs": [
    {
     "name": "stdout",
     "output_type": "stream",
     "text": [
      "Hello there.\n"
     ]
    }
   ],
   "source": [
    "# replacing characters\n",
    "words = \"Hello there!\"\n",
    "print(words.replace(\"!\",\".\"))"
   ]
  },
  {
   "cell_type": "code",
   "execution_count": 15,
   "id": "4e24fece-1792-4a70-aac7-17e7c7f8f38d",
   "metadata": {},
   "outputs": [
    {
     "name": "stdout",
     "output_type": "stream",
     "text": [
      "5\n"
     ]
    }
   ],
   "source": [
    "# finding the starting index of our searched term\n",
    "s = \"Look over that way\"\n",
    "print(s.find(\"over\"))"
   ]
  },
  {
   "cell_type": "code",
   "execution_count": 16,
   "id": "c5979795-f032-471c-86e4-75ce82418fe5",
   "metadata": {},
   "outputs": [
    {
     "name": "stdout",
     "output_type": "stream",
     "text": [
      "    john     \n",
      "john\n"
     ]
    }
   ],
   "source": [
    "# Removing white spaces with strip\n",
    "name = \"    john     \"\n",
    "print(name)\n",
    "print(name.strip( ))"
   ]
  },
  {
   "cell_type": "code",
   "execution_count": 17,
   "id": "e283dfc2-47c9-4451-9494-645de3f721d0",
   "metadata": {},
   "outputs": [
    {
     "name": "stdout",
     "output_type": "stream",
     "text": [
      "['These', 'words', 'are', 'separated', 'by', 'spaces']\n",
      "['These', 'words', 'are', 'separated', 'by', 'spaces']\n"
     ]
    }
   ],
   "source": [
    "# converting a string into a list of words\n",
    "s = \"These words are separated by spaces\"\n",
    "print( s.split(\" \"))\n",
    "\n",
    "splitted = s.split(\" \")\n",
    "print(splitted)"
   ]
  },
  {
   "cell_type": "code",
   "execution_count": 18,
   "id": "6b63e99c-5a23-4d38-b905-816f675eb0c9",
   "metadata": {},
   "outputs": [
    {
     "name": "stdout",
     "output_type": "stream",
     "text": [
      "UPPERCASE\n",
      "John Smith\n"
     ]
    }
   ],
   "source": [
    "# Excercises\n",
    "# 1\n",
    "string1 = \"uppercase\"\n",
    "print(string1.upper())\n",
    "\n",
    "#2 \n",
    "string2 = \"$$John Smith\"\n",
    "print(string2.lstrip(\"$\"))\n",
    "\n"
   ]
  },
  {
   "cell_type": "markdown",
   "id": "93b0b09a",
   "metadata": {},
   "source": [
    "# Weekly project"
   ]
  },
  {
   "cell_type": "code",
   "execution_count": 19,
   "id": "18648864-cd54-4354-8bb7-3a6c2b5d38e1",
   "metadata": {},
   "outputs": [
    {
     "name": "stdout",
     "output_type": "stream",
     "text": [
      "**************************************************\n",
      "\t\tCoding Temple, Inc.\n",
      "\t\t283 Franklin St.\n",
      "\t\tBoston, MA\n",
      "**************************************************\n",
      "\tProduct Name\tProduct Price\n",
      "\tBooks\t\t$49.95\n",
      "\tComputer\t\t$579.99\n",
      "\tMonitor\t\t$124.89\n",
      "==================================================\n",
      "\t\t\tTotal\n",
      "\t\t\t$754.83\n",
      "==================================================\n",
      "\n",
      "\tThanks for shopping with us today!\n",
      "\n"
     ]
    }
   ],
   "source": [
    "# Create a product and price for three items\n",
    "p1_name, p1_price = \"Books\", 49.95\n",
    "p2_name, p2_price = \"Computer\", 579.99\n",
    "p3_name, p3_price = \"Monitor\", 124.89\n",
    "\n",
    "# Create a company name and info\n",
    "company_name = \"coding temple, inc.\"\n",
    "company_address = \"283 Franklin St.\"\n",
    "company_city = \"Boston, MA\"\n",
    "\n",
    "#Ending Message\n",
    "message = \"Thanks for shopping with us today!\"\n",
    "\n",
    "# Create a top border\n",
    "print(\"*\" * 50)\n",
    "#print company information, using format\n",
    "print(\"\\t\\t{}\".format(company_name.title()))\n",
    "print(\"\\t\\t{}\".format(company_address))\n",
    "print(\"\\t\\t{}\".format(company_city))\n",
    "#Section break\n",
    "print(\"*\" * 50)\n",
    "# print out header section for items\n",
    "print(\"\\tProduct Name\\tProduct Price\")\n",
    "# create a print statement for each product\n",
    "print(\"\\t{}\\t\\t${}\".format(p1_name.title(),p1_price))\n",
    "print(\"\\t{}\\t\\t${}\".format(p2_name.title(),p2_price))\n",
    "print(\"\\t{}\\t\\t${}\".format(p3_name.title(),p3_price))\n",
    "# section break\n",
    "print('=' * 50)\n",
    "#Header for total\n",
    "print(\"\\t\\t\\tTotal\")\n",
    "# Calculate things\n",
    "total = p1_price + p2_price + p3_price\n",
    "print(\"\\t\\t\\t${}\".format(total))\n",
    "# section break\n",
    "print(\"=\" * 50)\n",
    "# End Section\n",
    "print(\"\\n\\t{}\\n\".format(message))"
   ]
  },
  {
   "cell_type": "code",
   "execution_count": 11,
   "id": "5e53d6a6-3599-4199-8049-fe31ca3c9685",
   "metadata": {},
   "outputs": [
    {
     "name": "stdout",
     "output_type": "stream",
     "text": [
      "olleH\n"
     ]
    }
   ],
   "source": [
    "# Exercise\n",
    "\n",
    "string = \"Hello\"\n",
    "print(string[4::-1]) #note that start:stop:step, so use negative step"
   ]
  }
 ],
 "metadata": {
  "kernelspec": {
   "display_name": "base",
   "language": "python",
   "name": "python3"
  },
  "language_info": {
   "codemirror_mode": {
    "name": "ipython",
    "version": 3
   },
   "file_extension": ".py",
   "mimetype": "text/x-python",
   "name": "python",
   "nbconvert_exporter": "python",
   "pygments_lexer": "ipython3",
   "version": "3.12.4"
  }
 },
 "nbformat": 4,
 "nbformat_minor": 5
}
