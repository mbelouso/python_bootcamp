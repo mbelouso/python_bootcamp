{
 "cells": [
  {
   "cell_type": "markdown",
   "metadata": {},
   "source": [
    "# Code straight outa ChatGPT"
   ]
  },
  {
   "cell_type": "code",
   "execution_count": 6,
   "metadata": {},
   "outputs": [
    {
     "name": "stdout",
     "output_type": "stream",
     "text": [
      "Percentage of A: 19.90%\n",
      "Percentage of T: 21.10%\n",
      "Percentage of G: 18.74%\n",
      "Percentage of C: 19.13%\n"
     ]
    }
   ],
   "source": [
    "def calculate_nucleotide_percentages(dna_sequence):\n",
    "    # Convert the DNA sequence to uppercase to handle lowercase input\n",
    "    dna_sequence = dna_sequence.upper()\n",
    "    \n",
    "    # Calculate the total length of the DNA sequence\n",
    "    total_length = len(dna_sequence)\n",
    "    \n",
    "    if total_length == 0:\n",
    "        return \"The DNA sequence is empty.\"\n",
    "    \n",
    "    # Count the occurrences of each nucleotide\n",
    "    a_count = dna_sequence.count('A')\n",
    "    t_count = dna_sequence.count('T')\n",
    "    g_count = dna_sequence.count('G')\n",
    "    c_count = dna_sequence.count('C')\n",
    "    \n",
    "    # Calculate the percentage of each nucleotide\n",
    "    a_percentage = (a_count / total_length) * 100\n",
    "    t_percentage = (t_count / total_length) * 100\n",
    "    g_percentage = (g_count / total_length) * 100\n",
    "    c_percentage = (c_count / total_length) * 100\n",
    "    \n",
    "    # Print the results\n",
    "    print(f\"Percentage of A: {a_percentage:.2f}%\")\n",
    "    print(f\"Percentage of T: {t_percentage:.2f}%\")\n",
    "    print(f\"Percentage of G: {g_percentage:.2f}%\")\n",
    "    print(f\"Percentage of C: {c_percentage:.2f}%\")\n",
    "\n",
    "# Example of how the function can be used:\n",
    "dna_sequence = input(\"Enter a DNA sequence: \")\n",
    "calculate_nucleotide_percentages(dna_sequence)\n"
   ]
  },
  {
   "cell_type": "markdown",
   "metadata": {},
   "source": [
    "# Next version"
   ]
  },
  {
   "cell_type": "code",
   "execution_count": 3,
   "metadata": {},
   "outputs": [
    {
     "name": "stdout",
     "output_type": "stream",
     "text": [
      "Percentage of A: 25.23%\n",
      "Percentage of T: 26.75%\n",
      "Percentage of G: 23.77%\n",
      "Percentage of C: 24.25%\n"
     ]
    }
   ],
   "source": [
    "def calculate_nucleotide_percentages(dna_sequence):\n",
    "    # Convert the DNA sequence to uppercase to handle lowercase input\n",
    "    dna_sequence = dna_sequence.upper()\n",
    "    \n",
    "    # Remove spaces and digits from the sequence\n",
    "    dna_sequence = ''.join(filter(lambda x: x in 'ATGC', dna_sequence))\n",
    "    \n",
    "    # Calculate the total length of the DNA sequence\n",
    "    total_length = len(dna_sequence)\n",
    "    \n",
    "    if total_length == 0:\n",
    "        return \"The DNA sequence is empty or contains no valid nucleotides.\"\n",
    "    \n",
    "    # Count the occurrences of each nucleotide\n",
    "    a_count = dna_sequence.count('A')\n",
    "    t_count = dna_sequence.count('T')\n",
    "    g_count = dna_sequence.count('G')\n",
    "    c_count = dna_sequence.count('C')\n",
    "    \n",
    "    # Calculate the percentage of each nucleotide\n",
    "    a_percentage = (a_count / total_length) * 100\n",
    "    t_percentage = (t_count / total_length) * 100\n",
    "    g_percentage = (g_count / total_length) * 100\n",
    "    c_percentage = (c_count / total_length) * 100\n",
    "    \n",
    "    # Print the results\n",
    "    print(f\"Percentage of A: {a_percentage:.2f}%\")\n",
    "    print(f\"Percentage of T: {t_percentage:.2f}%\")\n",
    "    print(f\"Percentage of G: {g_percentage:.2f}%\")\n",
    "    print(f\"Percentage of C: {c_percentage:.2f}%\")\n",
    "\n",
    "# Example of how the function can be used:\n",
    "dna_sequence = input(\"Enter a DNA sequence: \")\n",
    "calculate_nucleotide_percentages(dna_sequence)\n"
   ]
  },
  {
   "cell_type": "markdown",
   "metadata": {},
   "source": [
    "# Alternate Next Version"
   ]
  },
  {
   "cell_type": "code",
   "execution_count": 5,
   "metadata": {},
   "outputs": [
    {
     "name": "stdout",
     "output_type": "stream",
     "text": [
      "Percentage of A: 25.23%\n",
      "Percentage of T: 26.75%\n",
      "Percentage of G: 23.77%\n",
      "Percentage of C: 24.25%\n"
     ]
    }
   ],
   "source": [
    "def calculate_nucleotide_percentages(dna_sequence):\n",
    "    # Convert the DNA sequence to uppercase\n",
    "    dna_sequence = dna_sequence.upper()\n",
    "\n",
    "    # Filter the sequence to include only valid nucleotides (A, T, G, C)\n",
    "    valid_nucleotides = ['A', 'T', 'G', 'C']\n",
    "    filtered_sequence = [nuc for nuc in dna_sequence if nuc in valid_nucleotides]\n",
    "    \n",
    "    # Calculate the total length of the filtered DNA sequence\n",
    "    total_length = len(filtered_sequence)\n",
    "    \n",
    "    if total_length == 0:\n",
    "        return \"The DNA sequence contains no valid nucleotides.\"\n",
    "    \n",
    "    # Count the occurrences of each nucleotide\n",
    "    a_count = filtered_sequence.count('A')\n",
    "    t_count = filtered_sequence.count('T')\n",
    "    g_count = filtered_sequence.count('G')\n",
    "    c_count = filtered_sequence.count('C')\n",
    "    \n",
    "    # Calculate the percentage of each nucleotide\n",
    "    a_percentage = (a_count / total_length) * 100\n",
    "    t_percentage = (t_count / total_length) * 100\n",
    "    g_percentage = (g_count / total_length) * 100\n",
    "    c_percentage = (c_count / total_length) * 100\n",
    "    \n",
    "    # Print the results\n",
    "    print(f\"Percentage of A: {a_percentage:.2f}%\")\n",
    "    print(f\"Percentage of T: {t_percentage:.2f}%\")\n",
    "    print(f\"Percentage of G: {g_percentage:.2f}%\")\n",
    "    print(f\"Percentage of C: {c_percentage:.2f}%\")\n",
    "\n",
    "# Example of how the function can be used:\n",
    "dna_sequence = input(\"Enter a DNA sequence: \")\n",
    "calculate_nucleotide_percentages(dna_sequence)\n"
   ]
  }
 ],
 "metadata": {
  "kernelspec": {
   "display_name": "base",
   "language": "python",
   "name": "python3"
  },
  "language_info": {
   "codemirror_mode": {
    "name": "ipython",
    "version": 3
   },
   "file_extension": ".py",
   "mimetype": "text/x-python",
   "name": "python",
   "nbconvert_exporter": "python",
   "pygments_lexer": "ipython3",
   "version": "3.12.4"
  }
 },
 "nbformat": 4,
 "nbformat_minor": 2
}
